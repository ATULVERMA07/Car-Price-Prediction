{
 "cells": [
  {
   "cell_type": "markdown",
   "id": "710653ab",
   "metadata": {},
   "source": [
    "### DATASET DESCRIPTION\n",
    "   * CSV file - 19237 rows x 18 columns (Includes Price Columns as Target)"
   ]
  },
  {
   "cell_type": "markdown",
   "id": "f3a7d2f1",
   "metadata": {},
   "source": [
    "### Attributes\n",
    "* ID\n",
    "* Price: price of the care(Target Column)\n",
    "* Levy\n",
    "* Manufacturer\n",
    "* Model\n",
    "* Prod. year\n",
    "* Category\n",
    "* Leather interior\n",
    "* Fuel type\n",
    "* Engine volume\n",
    "* Mileage\n",
    "* Cylinders\n",
    "* Gear box type\n",
    "* Drive wheels\n",
    "* Doors\n",
    "* Wheel\n",
    "* Color\n",
    "* Airbags"
   ]
  },
  {
   "cell_type": "markdown",
   "id": "1e66876e",
   "metadata": {},
   "source": [
    "**ABOUT DATASET** :- This Data set is taken as Challenge from Kaggle. The Link is\n",
    "    https://www.kaggle.com/datasets/deepcontractor/car-price-prediction-challenge\n",
    "\n",
    "\n"
   ]
  },
  {
   "cell_type": "markdown",
   "id": "46ae730a",
   "metadata": {},
   "source": [
    "### IMPORTING LIBRARIES"
   ]
  },
  {
   "cell_type": "code",
   "execution_count": 123,
   "id": "55b1ff22",
   "metadata": {},
   "outputs": [],
   "source": [
    "import pandas as pd\n",
    "import numpy as np\n",
    "from sklearn.model_selection import train_test_split\n",
    "from sklearn.linear_model import LinearRegression\n",
    "from sklearn.preprocessing import LabelEncoder, StandardScaler \n",
    "from sklearn.metrics import r2_score \n",
    "import matplotlib.pyplot as plt\n",
    "\n",
    "import seaborn as sns\n",
    "import warnings\n",
    "warnings.filterwarnings('ignore')"
   ]
  },
  {
   "cell_type": "markdown",
   "id": "3feb583a",
   "metadata": {},
   "source": [
    "### DATA CLEANING AND PRE-PROCESSING"
   ]
  },
  {
   "cell_type": "code",
   "execution_count": 124,
   "id": "3979f078",
   "metadata": {},
   "outputs": [
    {
     "data": {
      "text/html": [
       "<div>\n",
       "<style scoped>\n",
       "    .dataframe tbody tr th:only-of-type {\n",
       "        vertical-align: middle;\n",
       "    }\n",
       "\n",
       "    .dataframe tbody tr th {\n",
       "        vertical-align: top;\n",
       "    }\n",
       "\n",
       "    .dataframe thead th {\n",
       "        text-align: right;\n",
       "    }\n",
       "</style>\n",
       "<table border=\"1\" class=\"dataframe\">\n",
       "  <thead>\n",
       "    <tr style=\"text-align: right;\">\n",
       "      <th></th>\n",
       "      <th>ID</th>\n",
       "      <th>Price</th>\n",
       "      <th>Levy</th>\n",
       "      <th>Manufacturer</th>\n",
       "      <th>Model</th>\n",
       "      <th>Prod. year</th>\n",
       "      <th>Category</th>\n",
       "      <th>Leather interior</th>\n",
       "      <th>Fuel type</th>\n",
       "      <th>Engine volume</th>\n",
       "      <th>Mileage</th>\n",
       "      <th>Cylinders</th>\n",
       "      <th>Gear box type</th>\n",
       "      <th>Drive wheels</th>\n",
       "      <th>Doors</th>\n",
       "      <th>Wheel</th>\n",
       "      <th>Color</th>\n",
       "      <th>Airbags</th>\n",
       "    </tr>\n",
       "  </thead>\n",
       "  <tbody>\n",
       "    <tr>\n",
       "      <th>0</th>\n",
       "      <td>45654403</td>\n",
       "      <td>13328</td>\n",
       "      <td>1399</td>\n",
       "      <td>LEXUS</td>\n",
       "      <td>RX 450</td>\n",
       "      <td>2010</td>\n",
       "      <td>Jeep</td>\n",
       "      <td>Yes</td>\n",
       "      <td>Hybrid</td>\n",
       "      <td>3.5</td>\n",
       "      <td>186005 km</td>\n",
       "      <td>6.0</td>\n",
       "      <td>Automatic</td>\n",
       "      <td>4x4</td>\n",
       "      <td>04-May</td>\n",
       "      <td>Left wheel</td>\n",
       "      <td>Silver</td>\n",
       "      <td>12</td>\n",
       "    </tr>\n",
       "    <tr>\n",
       "      <th>1</th>\n",
       "      <td>44731507</td>\n",
       "      <td>16621</td>\n",
       "      <td>1018</td>\n",
       "      <td>CHEVROLET</td>\n",
       "      <td>Equinox</td>\n",
       "      <td>2011</td>\n",
       "      <td>Jeep</td>\n",
       "      <td>No</td>\n",
       "      <td>Petrol</td>\n",
       "      <td>3</td>\n",
       "      <td>192000 km</td>\n",
       "      <td>6.0</td>\n",
       "      <td>Tiptronic</td>\n",
       "      <td>4x4</td>\n",
       "      <td>04-May</td>\n",
       "      <td>Left wheel</td>\n",
       "      <td>Black</td>\n",
       "      <td>8</td>\n",
       "    </tr>\n",
       "    <tr>\n",
       "      <th>2</th>\n",
       "      <td>45774419</td>\n",
       "      <td>8467</td>\n",
       "      <td>-</td>\n",
       "      <td>HONDA</td>\n",
       "      <td>FIT</td>\n",
       "      <td>2006</td>\n",
       "      <td>Hatchback</td>\n",
       "      <td>No</td>\n",
       "      <td>Petrol</td>\n",
       "      <td>1.3</td>\n",
       "      <td>200000 km</td>\n",
       "      <td>4.0</td>\n",
       "      <td>Variator</td>\n",
       "      <td>Front</td>\n",
       "      <td>04-May</td>\n",
       "      <td>Right-hand drive</td>\n",
       "      <td>Black</td>\n",
       "      <td>2</td>\n",
       "    </tr>\n",
       "    <tr>\n",
       "      <th>3</th>\n",
       "      <td>45769185</td>\n",
       "      <td>3607</td>\n",
       "      <td>862</td>\n",
       "      <td>FORD</td>\n",
       "      <td>Escape</td>\n",
       "      <td>2011</td>\n",
       "      <td>Jeep</td>\n",
       "      <td>Yes</td>\n",
       "      <td>Hybrid</td>\n",
       "      <td>2.5</td>\n",
       "      <td>168966 km</td>\n",
       "      <td>4.0</td>\n",
       "      <td>Automatic</td>\n",
       "      <td>4x4</td>\n",
       "      <td>04-May</td>\n",
       "      <td>Left wheel</td>\n",
       "      <td>White</td>\n",
       "      <td>0</td>\n",
       "    </tr>\n",
       "    <tr>\n",
       "      <th>4</th>\n",
       "      <td>45809263</td>\n",
       "      <td>11726</td>\n",
       "      <td>446</td>\n",
       "      <td>HONDA</td>\n",
       "      <td>FIT</td>\n",
       "      <td>2014</td>\n",
       "      <td>Hatchback</td>\n",
       "      <td>Yes</td>\n",
       "      <td>Petrol</td>\n",
       "      <td>1.3</td>\n",
       "      <td>91901 km</td>\n",
       "      <td>4.0</td>\n",
       "      <td>Automatic</td>\n",
       "      <td>Front</td>\n",
       "      <td>04-May</td>\n",
       "      <td>Left wheel</td>\n",
       "      <td>Silver</td>\n",
       "      <td>4</td>\n",
       "    </tr>\n",
       "  </tbody>\n",
       "</table>\n",
       "</div>"
      ],
      "text/plain": [
       "         ID  Price  Levy Manufacturer    Model  Prod. year   Category  \\\n",
       "0  45654403  13328  1399        LEXUS   RX 450        2010       Jeep   \n",
       "1  44731507  16621  1018    CHEVROLET  Equinox        2011       Jeep   \n",
       "2  45774419   8467     -        HONDA      FIT        2006  Hatchback   \n",
       "3  45769185   3607   862         FORD   Escape        2011       Jeep   \n",
       "4  45809263  11726   446        HONDA      FIT        2014  Hatchback   \n",
       "\n",
       "  Leather interior Fuel type Engine volume    Mileage  Cylinders  \\\n",
       "0              Yes    Hybrid           3.5  186005 km        6.0   \n",
       "1               No    Petrol             3  192000 km        6.0   \n",
       "2               No    Petrol           1.3  200000 km        4.0   \n",
       "3              Yes    Hybrid           2.5  168966 km        4.0   \n",
       "4              Yes    Petrol           1.3   91901 km        4.0   \n",
       "\n",
       "  Gear box type Drive wheels   Doors             Wheel   Color  Airbags  \n",
       "0     Automatic          4x4  04-May        Left wheel  Silver       12  \n",
       "1     Tiptronic          4x4  04-May        Left wheel   Black        8  \n",
       "2      Variator        Front  04-May  Right-hand drive   Black        2  \n",
       "3     Automatic          4x4  04-May        Left wheel   White        0  \n",
       "4     Automatic        Front  04-May        Left wheel  Silver        4  "
      ]
     },
     "execution_count": 124,
     "metadata": {},
     "output_type": "execute_result"
    }
   ],
   "source": [
    "cars_original = pd.read_csv(r\"C:\\Users\\verma\\Documents\\Processing\\car price prediction challenge\\archive without zip\\car_price_prediction.csv\")\n",
    "cars_original.head()"
   ]
  },
  {
   "cell_type": "code",
   "execution_count": 125,
   "id": "82526d82",
   "metadata": {},
   "outputs": [],
   "source": [
    "cars = cars_original.copy()"
   ]
  },
  {
   "cell_type": "code",
   "execution_count": 126,
   "id": "55e60b60",
   "metadata": {},
   "outputs": [
    {
     "name": "stdout",
     "output_type": "stream",
     "text": [
      "The shape of dataset is  (19237, 18)\n"
     ]
    }
   ],
   "source": [
    "## We check shape of dataset \n",
    "\n",
    "print('The shape of dataset is ', cars.shape)"
   ]
  },
  {
   "cell_type": "code",
   "execution_count": 127,
   "id": "540a1518",
   "metadata": {},
   "outputs": [
    {
     "name": "stdout",
     "output_type": "stream",
     "text": [
      "<class 'pandas.core.frame.DataFrame'>\n",
      "RangeIndex: 19237 entries, 0 to 19236\n",
      "Data columns (total 18 columns):\n",
      " #   Column            Non-Null Count  Dtype  \n",
      "---  ------            --------------  -----  \n",
      " 0   ID                19237 non-null  int64  \n",
      " 1   Price             19237 non-null  int64  \n",
      " 2   Levy              19237 non-null  object \n",
      " 3   Manufacturer      19237 non-null  object \n",
      " 4   Model             19237 non-null  object \n",
      " 5   Prod. year        19237 non-null  int64  \n",
      " 6   Category          19237 non-null  object \n",
      " 7   Leather interior  19237 non-null  object \n",
      " 8   Fuel type         19237 non-null  object \n",
      " 9   Engine volume     19237 non-null  object \n",
      " 10  Mileage           19237 non-null  object \n",
      " 11  Cylinders         19237 non-null  float64\n",
      " 12  Gear box type     19237 non-null  object \n",
      " 13  Drive wheels      19237 non-null  object \n",
      " 14  Doors             19237 non-null  object \n",
      " 15  Wheel             19237 non-null  object \n",
      " 16  Color             19237 non-null  object \n",
      " 17  Airbags           19237 non-null  int64  \n",
      "dtypes: float64(1), int64(4), object(13)\n",
      "memory usage: 2.6+ MB\n"
     ]
    }
   ],
   "source": [
    "cars.info()"
   ]
  },
  {
   "cell_type": "code",
   "execution_count": 128,
   "id": "9df7de21",
   "metadata": {},
   "outputs": [
    {
     "name": "stdout",
     "output_type": "stream",
     "text": [
      "ID                  0\n",
      "Price               0\n",
      "Levy                0\n",
      "Manufacturer        0\n",
      "Model               0\n",
      "Prod. year          0\n",
      "Category            0\n",
      "Leather interior    0\n",
      "Fuel type           0\n",
      "Engine volume       0\n",
      "Mileage             0\n",
      "Cylinders           0\n",
      "Gear box type       0\n",
      "Drive wheels        0\n",
      "Doors               0\n",
      "Wheel               0\n",
      "Color               0\n",
      "Airbags             0\n",
      "dtype: int64\n",
      "There is no null value. \n"
     ]
    }
   ],
   "source": [
    "# To check is there any null value\n",
    "\n",
    "print(cars.isnull().sum(axis = 0))\n",
    "print('There is no null value. ')"
   ]
  },
  {
   "cell_type": "markdown",
   "id": "9c236b71",
   "metadata": {},
   "source": [
    "**The Change need to do for Cleaning**\n",
    " 1. Rename the columns for convinient\n",
    " 2. Levy has \"-\" as missing value that need to remove and it should be in int \n",
    " 3. Remove \"Turbo\" from \"EngineVolume\" and change into numeric\n",
    " 4. Remove \"km\" from \"Mileage\" column and change into numeric\n",
    " 5. Remove Duplicated Rows from car dataset\n",
    " 6. Need to Remove '-May', '-Mar' and '>' from Doors\n",
    "  "
   ]
  },
  {
   "cell_type": "markdown",
   "id": "87ee7cbd",
   "metadata": {},
   "source": [
    "**1. Rename the columns for convinient**"
   ]
  },
  {
   "cell_type": "code",
   "execution_count": 129,
   "id": "acca1f3b",
   "metadata": {},
   "outputs": [],
   "source": [
    "cars.rename(columns = {'Prod. year': 'year'}, inplace = True)\n",
    "cars.rename(columns = {'Leather interior': 'LeatherInt', 'Fuel type': 'FuelType', 'Engine volume': 'EngineVolume', 'Gear box type': 'GearBoxType', 'Drive wheels':'DriveWheels'}, inplace = True)\n"
   ]
  },
  {
   "cell_type": "markdown",
   "id": "6dfdee5e",
   "metadata": {},
   "source": [
    "**2. Levy has \"-\" as missing value that need to remove and it should be in int**"
   ]
  },
  {
   "cell_type": "code",
   "execution_count": 130,
   "id": "d88a02b5",
   "metadata": {},
   "outputs": [
    {
     "data": {
      "text/plain": [
       "array(['1399', '1018', '-', '862', '446', '891', '761', '751', '394',\n",
       "       '1053', '1055', '1079', '810', '2386', '1850', '531', '586',\n",
       "       '1249', '2455', '583', '1537', '1288', '915', '1750', '707',\n",
       "       '1077', '1486', '1091', '650', '382', '1436', '1194', '503',\n",
       "       '1017', '1104', '639', '629', '919', '781', '530', '640', '765',\n",
       "       '777', '779', '934', '769', '645', '1185', '1324', '830', '1187',\n",
       "       '1111', '760', '642', '1604', '1095', '966', '473', '1138', '1811',\n",
       "       '988', '917', '1156', '687', '11714', '836', '1347', '2866',\n",
       "       '1646', '259', '609', '697', '585', '475', '690', '308', '1823',\n",
       "       '1361', '1273', '924', '584', '2078', '831', '1172', '893', '1872',\n",
       "       '1885', '1266', '447', '2148', '1730', '730', '289', '502', '333',\n",
       "       '1325', '247', '879', '1342', '1327', '1598', '1514', '1058',\n",
       "       '738', '1935', '481', '1522', '1282', '456', '880', '900', '798',\n",
       "       '1277', '442', '1051', '790', '1292', '1047', '528', '1211',\n",
       "       '1493', '1793', '574', '930', '1998', '271', '706', '1481', '1677',\n",
       "       '1661', '1286', '1408', '1090', '595', '1451', '1267', '993',\n",
       "       '1714', '878', '641', '749', '1511', '603', '353', '877', '1236',\n",
       "       '1141', '397', '784', '1024', '1357', '1301', '770', '922', '1438',\n",
       "       '753', '607', '1363', '638', '490', '431', '565', '517', '833',\n",
       "       '489', '1760', '986', '1841', '1620', '1360', '474', '1099', '978',\n",
       "       '1624', '1946', '1268', '1307', '696', '649', '666', '2151', '551',\n",
       "       '800', '971', '1323', '2377', '1845', '1083', '694', '463', '419',\n",
       "       '345', '1515', '1505', '2056', '1203', '729', '460', '1356', '876',\n",
       "       '911', '1190', '780', '448', '2410', '1848', '1148', '834', '1275',\n",
       "       '1028', '1197', '724', '890', '1705', '505', '789', '2959', '518',\n",
       "       '461', '1719', '2858', '3156', '2225', '2177', '1968', '1888',\n",
       "       '1308', '2736', '1103', '557', '2195', '843', '1664', '723',\n",
       "       '4508', '562', '501', '2018', '1076', '1202', '3301', '691',\n",
       "       '1440', '1869', '1178', '418', '1820', '1413', '488', '1304',\n",
       "       '363', '2108', '521', '1659', '87', '1411', '1528', '3292', '7058',\n",
       "       '1578', '627', '874', '1996', '1488', '5679', '1234', '5603',\n",
       "       '400', '889', '3268', '875', '949', '2265', '441', '742', '425',\n",
       "       '2476', '2971', '614', '1816', '1375', '1405', '2297', '1062',\n",
       "       '1113', '420', '2469', '658', '1951', '2670', '2578', '1995',\n",
       "       '1032', '994', '1011', '2421', '1296', '155', '494', '426', '1086',\n",
       "       '961', '2236', '1829', '764', '1834', '1054', '617', '1529',\n",
       "       '2266', '637', '626', '1832', '1016', '2002', '1756', '746',\n",
       "       '1285', '2690', '1118', '5332', '980', '1807', '970', '1228',\n",
       "       '1195', '1132', '1768', '1384', '1080', '7063', '1817', '1452',\n",
       "       '1975', '1368', '702', '1974', '1781', '1036', '944', '663', '364',\n",
       "       '1539', '1345', '1680', '2209', '741', '1575', '695', '1317',\n",
       "       '294', '1525', '424', '997', '1473', '1552', '2819', '2188',\n",
       "       '1668', '3057', '799', '1502', '2606', '552', '1694', '1759',\n",
       "       '1110', '399', '1470', '1174', '5877', '1474', '1688', '526',\n",
       "       '686', '5908', '1107', '2070', '1468', '1246', '1685', '556',\n",
       "       '1533', '1917', '1346', '732', '692', '579', '421', '362', '3505',\n",
       "       '1855', '2711', '1586', '3739', '681', '1708', '2278', '1701',\n",
       "       '722', '1482', '928', '827', '832', '527', '604', '173', '1341',\n",
       "       '3329', '1553', '859', '167', '916', '828', '2082', '1176', '1108',\n",
       "       '975', '3008', '1516', '2269', '1699', '2073', '1031', '1503',\n",
       "       '2364', '1030', '1442', '5666', '2715', '1437', '2067', '1426',\n",
       "       '2908', '1279', '866', '4283', '279', '2658', '3015', '2004',\n",
       "       '1391', '4736', '748', '1466', '644', '683', '2705', '1297', '731',\n",
       "       '1252', '2216', '3141', '3273', '1518', '1723', '1588', '972',\n",
       "       '682', '1094', '668', '175', '967', '402', '3894', '1960', '1599',\n",
       "       '2000', '2084', '1621', '714', '1109', '3989', '873', '1572',\n",
       "       '1163', '1991', '1716', '1673', '2562', '2874', '965', '462',\n",
       "       '605', '1948', '1736', '3518', '2054', '2467', '1681', '1272',\n",
       "       '1205', '750', '2156', '2566', '115', '524', '3184', '676', '1678',\n",
       "       '612', '328', '955', '1441', '1675', '3965', '2909', '623', '822',\n",
       "       '867', '3025', '1993', '792', '636', '4057', '3743', '2337',\n",
       "       '2570', '2418', '2472', '3910', '1662', '2123', '2628', '3208',\n",
       "       '2080', '3699', '2913', '864', '2505', '870', '7536', '1924',\n",
       "       '1671', '1064', '1836', '1866', '4741', '841', '1369', '5681',\n",
       "       '3112', '1366', '2223', '1198', '1039', '3811', '3571', '1387',\n",
       "       '1171', '1365', '1531', '1590', '11706', '2308', '4860', '1641',\n",
       "       '1045', '1901'], dtype=object)"
      ]
     },
     "execution_count": 130,
     "metadata": {},
     "output_type": "execute_result"
    }
   ],
   "source": [
    "cars.Levy.unique()"
   ]
  },
  {
   "cell_type": "code",
   "execution_count": 131,
   "id": "ba99b613",
   "metadata": {},
   "outputs": [
    {
     "data": {
      "text/plain": [
       "5819"
      ]
     },
     "execution_count": 131,
     "metadata": {},
     "output_type": "execute_result"
    }
   ],
   "source": [
    "len(cars[cars['Levy']== '-'])"
   ]
  },
  {
   "cell_type": "markdown",
   "id": "022be71b",
   "metadata": {},
   "source": [
    "**COMMENT :- ** We have large amount of data that are missing and it's not good idea to remove all rows beacuase it will remove many information regarding other features so we fill missing value by forward filling."
   ]
  },
  {
   "cell_type": "code",
   "execution_count": 132,
   "id": "eebfe435",
   "metadata": {},
   "outputs": [],
   "source": [
    "cars['Levy'].replace('-', np.nan, inplace = True)"
   ]
  },
  {
   "cell_type": "code",
   "execution_count": 133,
   "id": "4049c754",
   "metadata": {},
   "outputs": [
    {
     "data": {
      "text/plain": [
       "0"
      ]
     },
     "execution_count": 133,
     "metadata": {},
     "output_type": "execute_result"
    }
   ],
   "source": [
    "# checking is it working!\n",
    "len(cars[cars['Levy']== '-'])"
   ]
  },
  {
   "cell_type": "code",
   "execution_count": 134,
   "id": "9fdd39c5",
   "metadata": {},
   "outputs": [],
   "source": [
    "# Now filling na value by forward filling\n",
    "cars.Levy = cars.Levy.astype(float)\n",
    "cars['Levy'].fillna(method = 'ffill', inplace = True)"
   ]
  },
  {
   "cell_type": "code",
   "execution_count": 135,
   "id": "18ee4601",
   "metadata": {},
   "outputs": [
    {
     "data": {
      "text/plain": [
       "0"
      ]
     },
     "execution_count": 135,
     "metadata": {},
     "output_type": "execute_result"
    }
   ],
   "source": [
    "cars[\"Levy\"].isna().sum()"
   ]
  },
  {
   "cell_type": "markdown",
   "id": "10965b50",
   "metadata": {},
   "source": [
    "**3. Remove \"Turbo\" from \"EngineVolume\" and change into numeric**"
   ]
  },
  {
   "cell_type": "code",
   "execution_count": 136,
   "id": "8a6cc246",
   "metadata": {},
   "outputs": [
    {
     "data": {
      "text/plain": [
       "array(['3.5', '3', '1.3', '2.5', '2', '1.8', '2.4', '4', '1.6', '3.3',\n",
       "       '2.0 Turbo', '2.2 Turbo', '4.7', '1.5', '4.4', '3.0 Turbo',\n",
       "       '1.4 Turbo', '3.6', '2.3', '1.5 Turbo', '1.6 Turbo', '2.2',\n",
       "       '2.3 Turbo', '1.4', '5.5', '2.8 Turbo', '3.2', '3.8', '4.6', '1.2',\n",
       "       '5', '1.7', '2.9', '0.5', '1.8 Turbo', '2.4 Turbo', '3.5 Turbo',\n",
       "       '1.9', '2.7', '4.8', '5.3', '0.4', '2.8', '3.2 Turbo', '1.1',\n",
       "       '2.1', '0.7', '5.4', '1.3 Turbo', '3.7', '1', '2.5 Turbo', '2.6',\n",
       "       '1.9 Turbo', '4.4 Turbo', '4.7 Turbo', '0.8', '0.2 Turbo', '5.7',\n",
       "       '4.8 Turbo', '4.6 Turbo', '6.7', '6.2', '1.2 Turbo', '3.4',\n",
       "       '1.7 Turbo', '6.3 Turbo', '2.7 Turbo', '4.3', '4.2', '2.9 Turbo',\n",
       "       '0', '4.0 Turbo', '20', '3.6 Turbo', '0.3', '3.7 Turbo', '5.9',\n",
       "       '5.5 Turbo', '0.2', '2.1 Turbo', '5.6', '6', '0.7 Turbo',\n",
       "       '0.6 Turbo', '6.8', '4.5', '0.6', '7.3', '0.1', '1.0 Turbo', '6.3',\n",
       "       '4.5 Turbo', '0.8 Turbo', '4.2 Turbo', '3.1', '5.0 Turbo', '6.4',\n",
       "       '3.9', '5.7 Turbo', '0.9', '0.4 Turbo', '5.4 Turbo', '0.3 Turbo',\n",
       "       '5.2', '5.8', '1.1 Turbo'], dtype=object)"
      ]
     },
     "execution_count": 136,
     "metadata": {},
     "output_type": "execute_result"
    }
   ],
   "source": [
    "cars.EngineVolume.unique()"
   ]
  },
  {
   "cell_type": "code",
   "execution_count": 137,
   "id": "01ae9253",
   "metadata": {},
   "outputs": [],
   "source": [
    "cars['EngineVolume'] = cars['EngineVolume'].str.split().str.get(0).astype(float)"
   ]
  },
  {
   "cell_type": "markdown",
   "id": "4ded2934",
   "metadata": {},
   "source": [
    "**4. Remove \"km\" from \"Mileage\" column and change into numeric**"
   ]
  },
  {
   "cell_type": "code",
   "execution_count": 138,
   "id": "a8fa1f6b",
   "metadata": {},
   "outputs": [
    {
     "data": {
      "text/plain": [
       "array(['186005 km', '192000 km', '200000 km', ..., '140607 km',\n",
       "       '307325 km', '186923 km'], dtype=object)"
      ]
     },
     "execution_count": 138,
     "metadata": {},
     "output_type": "execute_result"
    }
   ],
   "source": [
    "cars['Mileage'].unique()"
   ]
  },
  {
   "cell_type": "code",
   "execution_count": 139,
   "id": "96c91fb8",
   "metadata": {},
   "outputs": [],
   "source": [
    "cars['Mileage'] = cars['Mileage'].str.split().str.get(0).astype(int)"
   ]
  },
  {
   "cell_type": "markdown",
   "id": "b422edf1",
   "metadata": {},
   "source": [
    "**5. Remove Duplicated Rows from car dataset**"
   ]
  },
  {
   "cell_type": "code",
   "execution_count": 140,
   "id": "701674d2",
   "metadata": {},
   "outputs": [
    {
     "data": {
      "text/html": [
       "<div>\n",
       "<style scoped>\n",
       "    .dataframe tbody tr th:only-of-type {\n",
       "        vertical-align: middle;\n",
       "    }\n",
       "\n",
       "    .dataframe tbody tr th {\n",
       "        vertical-align: top;\n",
       "    }\n",
       "\n",
       "    .dataframe thead th {\n",
       "        text-align: right;\n",
       "    }\n",
       "</style>\n",
       "<table border=\"1\" class=\"dataframe\">\n",
       "  <thead>\n",
       "    <tr style=\"text-align: right;\">\n",
       "      <th></th>\n",
       "      <th>ID</th>\n",
       "      <th>Price</th>\n",
       "      <th>Levy</th>\n",
       "      <th>Manufacturer</th>\n",
       "      <th>Model</th>\n",
       "      <th>year</th>\n",
       "      <th>Category</th>\n",
       "      <th>LeatherInt</th>\n",
       "      <th>FuelType</th>\n",
       "      <th>EngineVolume</th>\n",
       "      <th>Mileage</th>\n",
       "      <th>Cylinders</th>\n",
       "      <th>GearBoxType</th>\n",
       "      <th>DriveWheels</th>\n",
       "      <th>Doors</th>\n",
       "      <th>Wheel</th>\n",
       "      <th>Color</th>\n",
       "      <th>Airbags</th>\n",
       "    </tr>\n",
       "  </thead>\n",
       "  <tbody>\n",
       "    <tr>\n",
       "      <th>2268</th>\n",
       "      <td>45815355</td>\n",
       "      <td>8154</td>\n",
       "      <td>1172.0</td>\n",
       "      <td>LEXUS</td>\n",
       "      <td>IS 350</td>\n",
       "      <td>2011</td>\n",
       "      <td>Sedan</td>\n",
       "      <td>Yes</td>\n",
       "      <td>Petrol</td>\n",
       "      <td>3.5</td>\n",
       "      <td>259066</td>\n",
       "      <td>6.0</td>\n",
       "      <td>Automatic</td>\n",
       "      <td>4x4</td>\n",
       "      <td>04-May</td>\n",
       "      <td>Left wheel</td>\n",
       "      <td>Silver</td>\n",
       "      <td>12</td>\n",
       "    </tr>\n",
       "    <tr>\n",
       "      <th>2923</th>\n",
       "      <td>45815355</td>\n",
       "      <td>8154</td>\n",
       "      <td>1172.0</td>\n",
       "      <td>LEXUS</td>\n",
       "      <td>IS 350</td>\n",
       "      <td>2011</td>\n",
       "      <td>Sedan</td>\n",
       "      <td>Yes</td>\n",
       "      <td>Petrol</td>\n",
       "      <td>3.5</td>\n",
       "      <td>259066</td>\n",
       "      <td>6.0</td>\n",
       "      <td>Automatic</td>\n",
       "      <td>4x4</td>\n",
       "      <td>04-May</td>\n",
       "      <td>Left wheel</td>\n",
       "      <td>Silver</td>\n",
       "      <td>12</td>\n",
       "    </tr>\n",
       "    <tr>\n",
       "      <th>3026</th>\n",
       "      <td>45730629</td>\n",
       "      <td>27946</td>\n",
       "      <td>528.0</td>\n",
       "      <td>HYUNDAI</td>\n",
       "      <td>Elantra</td>\n",
       "      <td>2014</td>\n",
       "      <td>Sedan</td>\n",
       "      <td>Yes</td>\n",
       "      <td>Diesel</td>\n",
       "      <td>1.6</td>\n",
       "      <td>102152</td>\n",
       "      <td>4.0</td>\n",
       "      <td>Automatic</td>\n",
       "      <td>Front</td>\n",
       "      <td>04-May</td>\n",
       "      <td>Left wheel</td>\n",
       "      <td>White</td>\n",
       "      <td>4</td>\n",
       "    </tr>\n",
       "    <tr>\n",
       "      <th>3383</th>\n",
       "      <td>45723475</td>\n",
       "      <td>19444</td>\n",
       "      <td>502.0</td>\n",
       "      <td>FORD</td>\n",
       "      <td>Fusion</td>\n",
       "      <td>2013</td>\n",
       "      <td>Sedan</td>\n",
       "      <td>No</td>\n",
       "      <td>Petrol</td>\n",
       "      <td>1.5</td>\n",
       "      <td>100000</td>\n",
       "      <td>4.0</td>\n",
       "      <td>Automatic</td>\n",
       "      <td>Front</td>\n",
       "      <td>04-May</td>\n",
       "      <td>Left wheel</td>\n",
       "      <td>Black</td>\n",
       "      <td>8</td>\n",
       "    </tr>\n",
       "    <tr>\n",
       "      <th>3433</th>\n",
       "      <td>45810013</td>\n",
       "      <td>34635</td>\n",
       "      <td>1077.0</td>\n",
       "      <td>HONDA</td>\n",
       "      <td>Civic</td>\n",
       "      <td>2019</td>\n",
       "      <td>Sedan</td>\n",
       "      <td>Yes</td>\n",
       "      <td>Petrol</td>\n",
       "      <td>2.0</td>\n",
       "      <td>2927</td>\n",
       "      <td>4.0</td>\n",
       "      <td>Automatic</td>\n",
       "      <td>Front</td>\n",
       "      <td>04-May</td>\n",
       "      <td>Left wheel</td>\n",
       "      <td>Grey</td>\n",
       "      <td>4</td>\n",
       "    </tr>\n",
       "    <tr>\n",
       "      <th>...</th>\n",
       "      <td>...</td>\n",
       "      <td>...</td>\n",
       "      <td>...</td>\n",
       "      <td>...</td>\n",
       "      <td>...</td>\n",
       "      <td>...</td>\n",
       "      <td>...</td>\n",
       "      <td>...</td>\n",
       "      <td>...</td>\n",
       "      <td>...</td>\n",
       "      <td>...</td>\n",
       "      <td>...</td>\n",
       "      <td>...</td>\n",
       "      <td>...</td>\n",
       "      <td>...</td>\n",
       "      <td>...</td>\n",
       "      <td>...</td>\n",
       "      <td>...</td>\n",
       "    </tr>\n",
       "    <tr>\n",
       "      <th>18974</th>\n",
       "      <td>45815465</td>\n",
       "      <td>2352</td>\n",
       "      <td>1273.0</td>\n",
       "      <td>LEXUS</td>\n",
       "      <td>IS 350</td>\n",
       "      <td>2015</td>\n",
       "      <td>Sedan</td>\n",
       "      <td>Yes</td>\n",
       "      <td>Petrol</td>\n",
       "      <td>3.5</td>\n",
       "      <td>80856</td>\n",
       "      <td>6.0</td>\n",
       "      <td>Automatic</td>\n",
       "      <td>4x4</td>\n",
       "      <td>04-May</td>\n",
       "      <td>Left wheel</td>\n",
       "      <td>Black</td>\n",
       "      <td>12</td>\n",
       "    </tr>\n",
       "    <tr>\n",
       "      <th>19137</th>\n",
       "      <td>45810466</td>\n",
       "      <td>15125</td>\n",
       "      <td>642.0</td>\n",
       "      <td>CHEVROLET</td>\n",
       "      <td>Orlando</td>\n",
       "      <td>2012</td>\n",
       "      <td>Jeep</td>\n",
       "      <td>Yes</td>\n",
       "      <td>Diesel</td>\n",
       "      <td>2.0</td>\n",
       "      <td>156834</td>\n",
       "      <td>4.0</td>\n",
       "      <td>Automatic</td>\n",
       "      <td>Front</td>\n",
       "      <td>04-May</td>\n",
       "      <td>Left wheel</td>\n",
       "      <td>Golden</td>\n",
       "      <td>4</td>\n",
       "    </tr>\n",
       "    <tr>\n",
       "      <th>19200</th>\n",
       "      <td>45725908</td>\n",
       "      <td>36065</td>\n",
       "      <td>640.0</td>\n",
       "      <td>MERCEDES-BENZ</td>\n",
       "      <td>CLA 250 AMG</td>\n",
       "      <td>2013</td>\n",
       "      <td>Sedan</td>\n",
       "      <td>Yes</td>\n",
       "      <td>Petrol</td>\n",
       "      <td>2.0</td>\n",
       "      <td>68000</td>\n",
       "      <td>4.0</td>\n",
       "      <td>Tiptronic</td>\n",
       "      <td>Front</td>\n",
       "      <td>04-May</td>\n",
       "      <td>Left wheel</td>\n",
       "      <td>Red</td>\n",
       "      <td>12</td>\n",
       "    </tr>\n",
       "    <tr>\n",
       "      <th>19203</th>\n",
       "      <td>45761487</td>\n",
       "      <td>13485</td>\n",
       "      <td>645.0</td>\n",
       "      <td>TOYOTA</td>\n",
       "      <td>Prius</td>\n",
       "      <td>2011</td>\n",
       "      <td>Sedan</td>\n",
       "      <td>No</td>\n",
       "      <td>Hybrid</td>\n",
       "      <td>1.8</td>\n",
       "      <td>281600</td>\n",
       "      <td>6.0</td>\n",
       "      <td>Automatic</td>\n",
       "      <td>Front</td>\n",
       "      <td>04-May</td>\n",
       "      <td>Left wheel</td>\n",
       "      <td>Grey</td>\n",
       "      <td>8</td>\n",
       "    </tr>\n",
       "    <tr>\n",
       "      <th>19210</th>\n",
       "      <td>45732939</td>\n",
       "      <td>8311</td>\n",
       "      <td>642.0</td>\n",
       "      <td>HYUNDAI</td>\n",
       "      <td>Sonata</td>\n",
       "      <td>2012</td>\n",
       "      <td>Sedan</td>\n",
       "      <td>Yes</td>\n",
       "      <td>LPG</td>\n",
       "      <td>2.0</td>\n",
       "      <td>36545</td>\n",
       "      <td>4.0</td>\n",
       "      <td>Automatic</td>\n",
       "      <td>Front</td>\n",
       "      <td>04-May</td>\n",
       "      <td>Left wheel</td>\n",
       "      <td>White</td>\n",
       "      <td>4</td>\n",
       "    </tr>\n",
       "  </tbody>\n",
       "</table>\n",
       "<p>207 rows × 18 columns</p>\n",
       "</div>"
      ],
      "text/plain": [
       "             ID  Price    Levy   Manufacturer        Model  year Category  \\\n",
       "2268   45815355   8154  1172.0          LEXUS       IS 350  2011    Sedan   \n",
       "2923   45815355   8154  1172.0          LEXUS       IS 350  2011    Sedan   \n",
       "3026   45730629  27946   528.0        HYUNDAI      Elantra  2014    Sedan   \n",
       "3383   45723475  19444   502.0           FORD       Fusion  2013    Sedan   \n",
       "3433   45810013  34635  1077.0          HONDA        Civic  2019    Sedan   \n",
       "...         ...    ...     ...            ...          ...   ...      ...   \n",
       "18974  45815465   2352  1273.0          LEXUS       IS 350  2015    Sedan   \n",
       "19137  45810466  15125   642.0      CHEVROLET      Orlando  2012     Jeep   \n",
       "19200  45725908  36065   640.0  MERCEDES-BENZ  CLA 250 AMG  2013    Sedan   \n",
       "19203  45761487  13485   645.0         TOYOTA        Prius  2011    Sedan   \n",
       "19210  45732939   8311   642.0        HYUNDAI       Sonata  2012    Sedan   \n",
       "\n",
       "      LeatherInt FuelType  EngineVolume  Mileage  Cylinders GearBoxType  \\\n",
       "2268         Yes   Petrol           3.5   259066        6.0   Automatic   \n",
       "2923         Yes   Petrol           3.5   259066        6.0   Automatic   \n",
       "3026         Yes   Diesel           1.6   102152        4.0   Automatic   \n",
       "3383          No   Petrol           1.5   100000        4.0   Automatic   \n",
       "3433         Yes   Petrol           2.0     2927        4.0   Automatic   \n",
       "...          ...      ...           ...      ...        ...         ...   \n",
       "18974        Yes   Petrol           3.5    80856        6.0   Automatic   \n",
       "19137        Yes   Diesel           2.0   156834        4.0   Automatic   \n",
       "19200        Yes   Petrol           2.0    68000        4.0   Tiptronic   \n",
       "19203         No   Hybrid           1.8   281600        6.0   Automatic   \n",
       "19210        Yes      LPG           2.0    36545        4.0   Automatic   \n",
       "\n",
       "      DriveWheels   Doors       Wheel   Color  Airbags  \n",
       "2268          4x4  04-May  Left wheel  Silver       12  \n",
       "2923          4x4  04-May  Left wheel  Silver       12  \n",
       "3026        Front  04-May  Left wheel   White        4  \n",
       "3383        Front  04-May  Left wheel   Black        8  \n",
       "3433        Front  04-May  Left wheel    Grey        4  \n",
       "...           ...     ...         ...     ...      ...  \n",
       "18974         4x4  04-May  Left wheel   Black       12  \n",
       "19137       Front  04-May  Left wheel  Golden        4  \n",
       "19200       Front  04-May  Left wheel     Red       12  \n",
       "19203       Front  04-May  Left wheel    Grey        8  \n",
       "19210       Front  04-May  Left wheel   White        4  \n",
       "\n",
       "[207 rows x 18 columns]"
      ]
     },
     "execution_count": 140,
     "metadata": {},
     "output_type": "execute_result"
    }
   ],
   "source": [
    "cars[cars.duplicated()]"
   ]
  },
  {
   "cell_type": "code",
   "execution_count": 141,
   "id": "d417252f",
   "metadata": {},
   "outputs": [],
   "source": [
    "cars.drop_duplicates(inplace = True)"
   ]
  },
  {
   "cell_type": "code",
   "execution_count": 142,
   "id": "f81c42d9",
   "metadata": {},
   "outputs": [
    {
     "data": {
      "text/html": [
       "<div>\n",
       "<style scoped>\n",
       "    .dataframe tbody tr th:only-of-type {\n",
       "        vertical-align: middle;\n",
       "    }\n",
       "\n",
       "    .dataframe tbody tr th {\n",
       "        vertical-align: top;\n",
       "    }\n",
       "\n",
       "    .dataframe thead th {\n",
       "        text-align: right;\n",
       "    }\n",
       "</style>\n",
       "<table border=\"1\" class=\"dataframe\">\n",
       "  <thead>\n",
       "    <tr style=\"text-align: right;\">\n",
       "      <th></th>\n",
       "      <th>ID</th>\n",
       "      <th>Price</th>\n",
       "      <th>Levy</th>\n",
       "      <th>Manufacturer</th>\n",
       "      <th>Model</th>\n",
       "      <th>year</th>\n",
       "      <th>Category</th>\n",
       "      <th>LeatherInt</th>\n",
       "      <th>FuelType</th>\n",
       "      <th>EngineVolume</th>\n",
       "      <th>Mileage</th>\n",
       "      <th>Cylinders</th>\n",
       "      <th>GearBoxType</th>\n",
       "      <th>DriveWheels</th>\n",
       "      <th>Doors</th>\n",
       "      <th>Wheel</th>\n",
       "      <th>Color</th>\n",
       "      <th>Airbags</th>\n",
       "    </tr>\n",
       "  </thead>\n",
       "  <tbody>\n",
       "  </tbody>\n",
       "</table>\n",
       "</div>"
      ],
      "text/plain": [
       "Empty DataFrame\n",
       "Columns: [ID, Price, Levy, Manufacturer, Model, year, Category, LeatherInt, FuelType, EngineVolume, Mileage, Cylinders, GearBoxType, DriveWheels, Doors, Wheel, Color, Airbags]\n",
       "Index: []"
      ]
     },
     "execution_count": 142,
     "metadata": {},
     "output_type": "execute_result"
    }
   ],
   "source": [
    "cars[cars.duplicated()]"
   ]
  },
  {
   "cell_type": "markdown",
   "id": "5ab33102",
   "metadata": {},
   "source": [
    "**6. Need to Remove '-May', '-Mar' and '>' from Doors and change in numeric**"
   ]
  },
  {
   "cell_type": "code",
   "execution_count": 143,
   "id": "7cfcd099",
   "metadata": {},
   "outputs": [
    {
     "data": {
      "text/plain": [
       "array(['04-May', '02-Mar', '>5'], dtype=object)"
      ]
     },
     "execution_count": 143,
     "metadata": {},
     "output_type": "execute_result"
    }
   ],
   "source": [
    "cars['Doors'].unique()"
   ]
  },
  {
   "cell_type": "code",
   "execution_count": 144,
   "id": "bf7316e4",
   "metadata": {},
   "outputs": [],
   "source": [
    "cars['Doors'] = cars['Doors'].map({'04-May':4, '02-Mar':2, '>5':5})"
   ]
  },
  {
   "cell_type": "markdown",
   "id": "76f6c4f3",
   "metadata": {},
   "source": [
    "### Checking Data"
   ]
  },
  {
   "cell_type": "code",
   "execution_count": 145,
   "id": "c31cba8a",
   "metadata": {},
   "outputs": [
    {
     "data": {
      "text/plain": [
       "(19030, 18)"
      ]
     },
     "execution_count": 145,
     "metadata": {},
     "output_type": "execute_result"
    }
   ],
   "source": [
    "cars.shape"
   ]
  },
  {
   "cell_type": "code",
   "execution_count": 146,
   "id": "49db03df",
   "metadata": {},
   "outputs": [
    {
     "name": "stdout",
     "output_type": "stream",
     "text": [
      "<class 'pandas.core.frame.DataFrame'>\n",
      "Int64Index: 19030 entries, 0 to 19236\n",
      "Data columns (total 18 columns):\n",
      " #   Column        Non-Null Count  Dtype  \n",
      "---  ------        --------------  -----  \n",
      " 0   ID            19030 non-null  int64  \n",
      " 1   Price         19030 non-null  int64  \n",
      " 2   Levy          19030 non-null  float64\n",
      " 3   Manufacturer  19030 non-null  object \n",
      " 4   Model         19030 non-null  object \n",
      " 5   year          19030 non-null  int64  \n",
      " 6   Category      19030 non-null  object \n",
      " 7   LeatherInt    19030 non-null  object \n",
      " 8   FuelType      19030 non-null  object \n",
      " 9   EngineVolume  19030 non-null  float64\n",
      " 10  Mileage       19030 non-null  int32  \n",
      " 11  Cylinders     19030 non-null  float64\n",
      " 12  GearBoxType   19030 non-null  object \n",
      " 13  DriveWheels   19030 non-null  object \n",
      " 14  Doors         19030 non-null  int64  \n",
      " 15  Wheel         19030 non-null  object \n",
      " 16  Color         19030 non-null  object \n",
      " 17  Airbags       19030 non-null  int64  \n",
      "dtypes: float64(3), int32(1), int64(5), object(9)\n",
      "memory usage: 2.7+ MB\n"
     ]
    }
   ],
   "source": [
    "cars.info()"
   ]
  },
  {
   "cell_type": "code",
   "execution_count": 147,
   "id": "7e3ec839",
   "metadata": {},
   "outputs": [
    {
     "data": {
      "text/html": [
       "<div>\n",
       "<style scoped>\n",
       "    .dataframe tbody tr th:only-of-type {\n",
       "        vertical-align: middle;\n",
       "    }\n",
       "\n",
       "    .dataframe tbody tr th {\n",
       "        vertical-align: top;\n",
       "    }\n",
       "\n",
       "    .dataframe thead th {\n",
       "        text-align: right;\n",
       "    }\n",
       "</style>\n",
       "<table border=\"1\" class=\"dataframe\">\n",
       "  <thead>\n",
       "    <tr style=\"text-align: right;\">\n",
       "      <th></th>\n",
       "      <th>ID</th>\n",
       "      <th>Price</th>\n",
       "      <th>Levy</th>\n",
       "      <th>year</th>\n",
       "      <th>EngineVolume</th>\n",
       "      <th>Mileage</th>\n",
       "      <th>Cylinders</th>\n",
       "      <th>Doors</th>\n",
       "      <th>Airbags</th>\n",
       "    </tr>\n",
       "  </thead>\n",
       "  <tbody>\n",
       "    <tr>\n",
       "      <th>count</th>\n",
       "      <td>1.903000e+04</td>\n",
       "      <td>1.903000e+04</td>\n",
       "      <td>19030.000000</td>\n",
       "      <td>19030.000000</td>\n",
       "      <td>19030.000000</td>\n",
       "      <td>1.903000e+04</td>\n",
       "      <td>19030.000000</td>\n",
       "      <td>19030.000000</td>\n",
       "      <td>19030.000000</td>\n",
       "    </tr>\n",
       "    <tr>\n",
       "      <th>mean</th>\n",
       "      <td>4.557533e+07</td>\n",
       "      <td>1.858865e+04</td>\n",
       "      <td>906.801997</td>\n",
       "      <td>2010.886337</td>\n",
       "      <td>2.306679</td>\n",
       "      <td>1.547477e+06</td>\n",
       "      <td>4.581661</td>\n",
       "      <td>3.925486</td>\n",
       "      <td>6.564950</td>\n",
       "    </tr>\n",
       "    <tr>\n",
       "      <th>std</th>\n",
       "      <td>9.381293e+05</td>\n",
       "      <td>1.916031e+05</td>\n",
       "      <td>464.241601</td>\n",
       "      <td>5.685631</td>\n",
       "      <td>0.877876</td>\n",
       "      <td>4.866621e+07</td>\n",
       "      <td>1.201025</td>\n",
       "      <td>0.404553</td>\n",
       "      <td>4.318068</td>\n",
       "    </tr>\n",
       "    <tr>\n",
       "      <th>min</th>\n",
       "      <td>2.074688e+07</td>\n",
       "      <td>1.000000e+00</td>\n",
       "      <td>87.000000</td>\n",
       "      <td>1939.000000</td>\n",
       "      <td>0.000000</td>\n",
       "      <td>0.000000e+00</td>\n",
       "      <td>1.000000</td>\n",
       "      <td>2.000000</td>\n",
       "      <td>0.000000</td>\n",
       "    </tr>\n",
       "    <tr>\n",
       "      <th>25%</th>\n",
       "      <td>4.569549e+07</td>\n",
       "      <td>5.331000e+03</td>\n",
       "      <td>640.000000</td>\n",
       "      <td>2009.000000</td>\n",
       "      <td>1.800000</td>\n",
       "      <td>7.020200e+04</td>\n",
       "      <td>4.000000</td>\n",
       "      <td>4.000000</td>\n",
       "      <td>4.000000</td>\n",
       "    </tr>\n",
       "    <tr>\n",
       "      <th>50%</th>\n",
       "      <td>4.577202e+07</td>\n",
       "      <td>1.317200e+04</td>\n",
       "      <td>781.000000</td>\n",
       "      <td>2012.000000</td>\n",
       "      <td>2.000000</td>\n",
       "      <td>1.264000e+05</td>\n",
       "      <td>4.000000</td>\n",
       "      <td>4.000000</td>\n",
       "      <td>6.000000</td>\n",
       "    </tr>\n",
       "    <tr>\n",
       "      <th>75%</th>\n",
       "      <td>4.580184e+07</td>\n",
       "      <td>2.211000e+04</td>\n",
       "      <td>1058.000000</td>\n",
       "      <td>2015.000000</td>\n",
       "      <td>2.500000</td>\n",
       "      <td>1.892482e+05</td>\n",
       "      <td>4.000000</td>\n",
       "      <td>4.000000</td>\n",
       "      <td>12.000000</td>\n",
       "    </tr>\n",
       "    <tr>\n",
       "      <th>max</th>\n",
       "      <td>4.581665e+07</td>\n",
       "      <td>2.630750e+07</td>\n",
       "      <td>11714.000000</td>\n",
       "      <td>2020.000000</td>\n",
       "      <td>20.000000</td>\n",
       "      <td>2.147484e+09</td>\n",
       "      <td>16.000000</td>\n",
       "      <td>5.000000</td>\n",
       "      <td>16.000000</td>\n",
       "    </tr>\n",
       "  </tbody>\n",
       "</table>\n",
       "</div>"
      ],
      "text/plain": [
       "                 ID         Price          Levy          year  EngineVolume  \\\n",
       "count  1.903000e+04  1.903000e+04  19030.000000  19030.000000  19030.000000   \n",
       "mean   4.557533e+07  1.858865e+04    906.801997   2010.886337      2.306679   \n",
       "std    9.381293e+05  1.916031e+05    464.241601      5.685631      0.877876   \n",
       "min    2.074688e+07  1.000000e+00     87.000000   1939.000000      0.000000   \n",
       "25%    4.569549e+07  5.331000e+03    640.000000   2009.000000      1.800000   \n",
       "50%    4.577202e+07  1.317200e+04    781.000000   2012.000000      2.000000   \n",
       "75%    4.580184e+07  2.211000e+04   1058.000000   2015.000000      2.500000   \n",
       "max    4.581665e+07  2.630750e+07  11714.000000   2020.000000     20.000000   \n",
       "\n",
       "            Mileage     Cylinders         Doors       Airbags  \n",
       "count  1.903000e+04  19030.000000  19030.000000  19030.000000  \n",
       "mean   1.547477e+06      4.581661      3.925486      6.564950  \n",
       "std    4.866621e+07      1.201025      0.404553      4.318068  \n",
       "min    0.000000e+00      1.000000      2.000000      0.000000  \n",
       "25%    7.020200e+04      4.000000      4.000000      4.000000  \n",
       "50%    1.264000e+05      4.000000      4.000000      6.000000  \n",
       "75%    1.892482e+05      4.000000      4.000000     12.000000  \n",
       "max    2.147484e+09     16.000000      5.000000     16.000000  "
      ]
     },
     "execution_count": 147,
     "metadata": {},
     "output_type": "execute_result"
    }
   ],
   "source": [
    "cars.describe()"
   ]
  },
  {
   "cell_type": "markdown",
   "id": "a3616797",
   "metadata": {},
   "source": [
    "**COMMENT :-** here in max of price is higher compare to 3rd Quartile that good to remove and also there minimum price of car is 1 which is also outlier"
   ]
  },
  {
   "cell_type": "markdown",
   "id": "b61b3168",
   "metadata": {},
   "source": [
    "**7. Remove the Outlier in Price**"
   ]
  },
  {
   "cell_type": "code",
   "execution_count": 148,
   "id": "cd5cf1ca",
   "metadata": {},
   "outputs": [
    {
     "data": {
      "text/plain": [
       "(19030, 18)"
      ]
     },
     "execution_count": 148,
     "metadata": {},
     "output_type": "execute_result"
    }
   ],
   "source": [
    "cars.shape"
   ]
  },
  {
   "cell_type": "code",
   "execution_count": 149,
   "id": "78474c80",
   "metadata": {},
   "outputs": [
    {
     "data": {
      "text/html": [
       "<div>\n",
       "<style scoped>\n",
       "    .dataframe tbody tr th:only-of-type {\n",
       "        vertical-align: middle;\n",
       "    }\n",
       "\n",
       "    .dataframe tbody tr th {\n",
       "        vertical-align: top;\n",
       "    }\n",
       "\n",
       "    .dataframe thead th {\n",
       "        text-align: right;\n",
       "    }\n",
       "</style>\n",
       "<table border=\"1\" class=\"dataframe\">\n",
       "  <thead>\n",
       "    <tr style=\"text-align: right;\">\n",
       "      <th></th>\n",
       "      <th>ID</th>\n",
       "      <th>Price</th>\n",
       "      <th>Levy</th>\n",
       "      <th>Manufacturer</th>\n",
       "      <th>Model</th>\n",
       "      <th>year</th>\n",
       "      <th>Category</th>\n",
       "      <th>LeatherInt</th>\n",
       "      <th>FuelType</th>\n",
       "      <th>EngineVolume</th>\n",
       "      <th>Mileage</th>\n",
       "      <th>Cylinders</th>\n",
       "      <th>GearBoxType</th>\n",
       "      <th>DriveWheels</th>\n",
       "      <th>Doors</th>\n",
       "      <th>Wheel</th>\n",
       "      <th>Color</th>\n",
       "      <th>Airbags</th>\n",
       "    </tr>\n",
       "  </thead>\n",
       "  <tbody>\n",
       "    <tr>\n",
       "      <th>7</th>\n",
       "      <td>45816158</td>\n",
       "      <td>549</td>\n",
       "      <td>751.0</td>\n",
       "      <td>HYUNDAI</td>\n",
       "      <td>Sonata</td>\n",
       "      <td>2013</td>\n",
       "      <td>Sedan</td>\n",
       "      <td>Yes</td>\n",
       "      <td>Petrol</td>\n",
       "      <td>2.4</td>\n",
       "      <td>216118</td>\n",
       "      <td>4.0</td>\n",
       "      <td>Automatic</td>\n",
       "      <td>Front</td>\n",
       "      <td>4</td>\n",
       "      <td>Left wheel</td>\n",
       "      <td>Grey</td>\n",
       "      <td>12</td>\n",
       "    </tr>\n",
       "    <tr>\n",
       "      <th>10</th>\n",
       "      <td>45621750</td>\n",
       "      <td>941</td>\n",
       "      <td>1053.0</td>\n",
       "      <td>MERCEDES-BENZ</td>\n",
       "      <td>E 350</td>\n",
       "      <td>2014</td>\n",
       "      <td>Sedan</td>\n",
       "      <td>Yes</td>\n",
       "      <td>Diesel</td>\n",
       "      <td>3.5</td>\n",
       "      <td>184467</td>\n",
       "      <td>6.0</td>\n",
       "      <td>Automatic</td>\n",
       "      <td>Rear</td>\n",
       "      <td>4</td>\n",
       "      <td>Left wheel</td>\n",
       "      <td>White</td>\n",
       "      <td>12</td>\n",
       "    </tr>\n",
       "    <tr>\n",
       "      <th>15</th>\n",
       "      <td>45465200</td>\n",
       "      <td>549</td>\n",
       "      <td>1079.0</td>\n",
       "      <td>TOYOTA</td>\n",
       "      <td>CHR</td>\n",
       "      <td>2018</td>\n",
       "      <td>Jeep</td>\n",
       "      <td>Yes</td>\n",
       "      <td>Petrol</td>\n",
       "      <td>2.0</td>\n",
       "      <td>74146</td>\n",
       "      <td>4.0</td>\n",
       "      <td>Automatic</td>\n",
       "      <td>Front</td>\n",
       "      <td>4</td>\n",
       "      <td>Left wheel</td>\n",
       "      <td>White</td>\n",
       "      <td>12</td>\n",
       "    </tr>\n",
       "    <tr>\n",
       "      <th>18</th>\n",
       "      <td>45772104</td>\n",
       "      <td>549</td>\n",
       "      <td>2386.0</td>\n",
       "      <td>HYUNDAI</td>\n",
       "      <td>Sonata</td>\n",
       "      <td>2006</td>\n",
       "      <td>Sedan</td>\n",
       "      <td>Yes</td>\n",
       "      <td>Petrol</td>\n",
       "      <td>3.3</td>\n",
       "      <td>295059</td>\n",
       "      <td>6.0</td>\n",
       "      <td>Automatic</td>\n",
       "      <td>Rear</td>\n",
       "      <td>4</td>\n",
       "      <td>Left wheel</td>\n",
       "      <td>Blue</td>\n",
       "      <td>12</td>\n",
       "    </tr>\n",
       "    <tr>\n",
       "      <th>19</th>\n",
       "      <td>45653306</td>\n",
       "      <td>941</td>\n",
       "      <td>1850.0</td>\n",
       "      <td>LEXUS</td>\n",
       "      <td>RX 400</td>\n",
       "      <td>2008</td>\n",
       "      <td>Jeep</td>\n",
       "      <td>Yes</td>\n",
       "      <td>Hybrid</td>\n",
       "      <td>3.5</td>\n",
       "      <td>364523</td>\n",
       "      <td>6.0</td>\n",
       "      <td>Automatic</td>\n",
       "      <td>4x4</td>\n",
       "      <td>4</td>\n",
       "      <td>Left wheel</td>\n",
       "      <td>Black</td>\n",
       "      <td>12</td>\n",
       "    </tr>\n",
       "    <tr>\n",
       "      <th>...</th>\n",
       "      <td>...</td>\n",
       "      <td>...</td>\n",
       "      <td>...</td>\n",
       "      <td>...</td>\n",
       "      <td>...</td>\n",
       "      <td>...</td>\n",
       "      <td>...</td>\n",
       "      <td>...</td>\n",
       "      <td>...</td>\n",
       "      <td>...</td>\n",
       "      <td>...</td>\n",
       "      <td>...</td>\n",
       "      <td>...</td>\n",
       "      <td>...</td>\n",
       "      <td>...</td>\n",
       "      <td>...</td>\n",
       "      <td>...</td>\n",
       "      <td>...</td>\n",
       "    </tr>\n",
       "    <tr>\n",
       "      <th>19218</th>\n",
       "      <td>45748699</td>\n",
       "      <td>30</td>\n",
       "      <td>1624.0</td>\n",
       "      <td>NISSAN</td>\n",
       "      <td>Note</td>\n",
       "      <td>2006</td>\n",
       "      <td>Hatchback</td>\n",
       "      <td>No</td>\n",
       "      <td>Petrol</td>\n",
       "      <td>1.3</td>\n",
       "      <td>0</td>\n",
       "      <td>4.0</td>\n",
       "      <td>Automatic</td>\n",
       "      <td>Front</td>\n",
       "      <td>4</td>\n",
       "      <td>Right-hand drive</td>\n",
       "      <td>Green</td>\n",
       "      <td>9</td>\n",
       "    </tr>\n",
       "    <tr>\n",
       "      <th>19228</th>\n",
       "      <td>45773726</td>\n",
       "      <td>706</td>\n",
       "      <td>1850.0</td>\n",
       "      <td>MERCEDES-BENZ</td>\n",
       "      <td>E 350</td>\n",
       "      <td>2008</td>\n",
       "      <td>Sedan</td>\n",
       "      <td>Yes</td>\n",
       "      <td>Diesel</td>\n",
       "      <td>3.5</td>\n",
       "      <td>122874</td>\n",
       "      <td>6.0</td>\n",
       "      <td>Automatic</td>\n",
       "      <td>Rear</td>\n",
       "      <td>4</td>\n",
       "      <td>Left wheel</td>\n",
       "      <td>Black</td>\n",
       "      <td>12</td>\n",
       "    </tr>\n",
       "    <tr>\n",
       "      <th>19229</th>\n",
       "      <td>39977395</td>\n",
       "      <td>50</td>\n",
       "      <td>1850.0</td>\n",
       "      <td>TOYOTA</td>\n",
       "      <td>Prius</td>\n",
       "      <td>2008</td>\n",
       "      <td>Hatchback</td>\n",
       "      <td>No</td>\n",
       "      <td>Hybrid</td>\n",
       "      <td>1.5</td>\n",
       "      <td>150000</td>\n",
       "      <td>4.0</td>\n",
       "      <td>Automatic</td>\n",
       "      <td>Front</td>\n",
       "      <td>4</td>\n",
       "      <td>Left wheel</td>\n",
       "      <td>Silver</td>\n",
       "      <td>6</td>\n",
       "    </tr>\n",
       "    <tr>\n",
       "      <th>19230</th>\n",
       "      <td>45760891</td>\n",
       "      <td>470</td>\n",
       "      <td>645.0</td>\n",
       "      <td>TOYOTA</td>\n",
       "      <td>Prius</td>\n",
       "      <td>2011</td>\n",
       "      <td>Hatchback</td>\n",
       "      <td>Yes</td>\n",
       "      <td>Hybrid</td>\n",
       "      <td>1.8</td>\n",
       "      <td>307325</td>\n",
       "      <td>4.0</td>\n",
       "      <td>Automatic</td>\n",
       "      <td>Front</td>\n",
       "      <td>4</td>\n",
       "      <td>Left wheel</td>\n",
       "      <td>Silver</td>\n",
       "      <td>12</td>\n",
       "    </tr>\n",
       "    <tr>\n",
       "      <th>19236</th>\n",
       "      <td>45813273</td>\n",
       "      <td>470</td>\n",
       "      <td>753.0</td>\n",
       "      <td>HYUNDAI</td>\n",
       "      <td>Sonata</td>\n",
       "      <td>2012</td>\n",
       "      <td>Sedan</td>\n",
       "      <td>Yes</td>\n",
       "      <td>Hybrid</td>\n",
       "      <td>2.4</td>\n",
       "      <td>186923</td>\n",
       "      <td>4.0</td>\n",
       "      <td>Automatic</td>\n",
       "      <td>Front</td>\n",
       "      <td>4</td>\n",
       "      <td>Left wheel</td>\n",
       "      <td>White</td>\n",
       "      <td>12</td>\n",
       "    </tr>\n",
       "  </tbody>\n",
       "</table>\n",
       "<p>2521 rows × 18 columns</p>\n",
       "</div>"
      ],
      "text/plain": [
       "             ID  Price    Levy   Manufacturer   Model  year   Category  \\\n",
       "7      45816158    549   751.0        HYUNDAI  Sonata  2013      Sedan   \n",
       "10     45621750    941  1053.0  MERCEDES-BENZ   E 350  2014      Sedan   \n",
       "15     45465200    549  1079.0         TOYOTA     CHR  2018       Jeep   \n",
       "18     45772104    549  2386.0        HYUNDAI  Sonata  2006      Sedan   \n",
       "19     45653306    941  1850.0          LEXUS  RX 400  2008       Jeep   \n",
       "...         ...    ...     ...            ...     ...   ...        ...   \n",
       "19218  45748699     30  1624.0         NISSAN    Note  2006  Hatchback   \n",
       "19228  45773726    706  1850.0  MERCEDES-BENZ   E 350  2008      Sedan   \n",
       "19229  39977395     50  1850.0         TOYOTA   Prius  2008  Hatchback   \n",
       "19230  45760891    470   645.0         TOYOTA   Prius  2011  Hatchback   \n",
       "19236  45813273    470   753.0        HYUNDAI  Sonata  2012      Sedan   \n",
       "\n",
       "      LeatherInt FuelType  EngineVolume  Mileage  Cylinders GearBoxType  \\\n",
       "7            Yes   Petrol           2.4   216118        4.0   Automatic   \n",
       "10           Yes   Diesel           3.5   184467        6.0   Automatic   \n",
       "15           Yes   Petrol           2.0    74146        4.0   Automatic   \n",
       "18           Yes   Petrol           3.3   295059        6.0   Automatic   \n",
       "19           Yes   Hybrid           3.5   364523        6.0   Automatic   \n",
       "...          ...      ...           ...      ...        ...         ...   \n",
       "19218         No   Petrol           1.3        0        4.0   Automatic   \n",
       "19228        Yes   Diesel           3.5   122874        6.0   Automatic   \n",
       "19229         No   Hybrid           1.5   150000        4.0   Automatic   \n",
       "19230        Yes   Hybrid           1.8   307325        4.0   Automatic   \n",
       "19236        Yes   Hybrid           2.4   186923        4.0   Automatic   \n",
       "\n",
       "      DriveWheels  Doors             Wheel   Color  Airbags  \n",
       "7           Front      4        Left wheel    Grey       12  \n",
       "10           Rear      4        Left wheel   White       12  \n",
       "15          Front      4        Left wheel   White       12  \n",
       "18           Rear      4        Left wheel    Blue       12  \n",
       "19            4x4      4        Left wheel   Black       12  \n",
       "...           ...    ...               ...     ...      ...  \n",
       "19218       Front      4  Right-hand drive   Green        9  \n",
       "19228        Rear      4        Left wheel   Black       12  \n",
       "19229       Front      4        Left wheel  Silver        6  \n",
       "19230       Front      4        Left wheel  Silver       12  \n",
       "19236       Front      4        Left wheel   White       12  \n",
       "\n",
       "[2521 rows x 18 columns]"
      ]
     },
     "execution_count": 149,
     "metadata": {},
     "output_type": "execute_result"
    }
   ],
   "source": [
    "cars[cars.Price < 1000]"
   ]
  },
  {
   "cell_type": "code",
   "execution_count": 150,
   "id": "50b44fa0",
   "metadata": {},
   "outputs": [
    {
     "data": {
      "image/png": "[encoded data removed]",
      "text/plain": [
       "<Figure size 1800x360 with 1 Axes>"
      ]
     },
     "metadata": {
      "needs_background": "light"
     },
     "output_type": "display_data"
    }
   ],
   "source": [
    "# Outlier detection\n",
    "plt.figure(figsize = (25,5))\n",
    "sns.boxplot(cars['Price'])\n",
    "plt.show()"
   ]
  },
  {
   "cell_type": "code",
   "execution_count": 151,
   "id": "8115e5f6",
   "metadata": {},
   "outputs": [
    {
     "data": {
      "text/html": [
       "<div>\n",
       "<style scoped>\n",
       "    .dataframe tbody tr th:only-of-type {\n",
       "        vertical-align: middle;\n",
       "    }\n",
       "\n",
       "    .dataframe tbody tr th {\n",
       "        vertical-align: top;\n",
       "    }\n",
       "\n",
       "    .dataframe thead th {\n",
       "        text-align: right;\n",
       "    }\n",
       "</style>\n",
       "<table border=\"1\" class=\"dataframe\">\n",
       "  <thead>\n",
       "    <tr style=\"text-align: right;\">\n",
       "      <th></th>\n",
       "      <th>ID</th>\n",
       "      <th>Price</th>\n",
       "      <th>Levy</th>\n",
       "      <th>Manufacturer</th>\n",
       "      <th>Model</th>\n",
       "      <th>year</th>\n",
       "      <th>Category</th>\n",
       "      <th>LeatherInt</th>\n",
       "      <th>FuelType</th>\n",
       "      <th>EngineVolume</th>\n",
       "      <th>Mileage</th>\n",
       "      <th>Cylinders</th>\n",
       "      <th>GearBoxType</th>\n",
       "      <th>DriveWheels</th>\n",
       "      <th>Doors</th>\n",
       "      <th>Wheel</th>\n",
       "      <th>Color</th>\n",
       "      <th>Airbags</th>\n",
       "    </tr>\n",
       "  </thead>\n",
       "  <tbody>\n",
       "    <tr>\n",
       "      <th>1225</th>\n",
       "      <td>45795524</td>\n",
       "      <td>627220</td>\n",
       "      <td>753.0</td>\n",
       "      <td>MERCEDES-BENZ</td>\n",
       "      <td>G 65 AMG 63AMG</td>\n",
       "      <td>2020</td>\n",
       "      <td>Jeep</td>\n",
       "      <td>Yes</td>\n",
       "      <td>Petrol</td>\n",
       "      <td>6.3</td>\n",
       "      <td>0</td>\n",
       "      <td>8.0</td>\n",
       "      <td>Tiptronic</td>\n",
       "      <td>4x4</td>\n",
       "      <td>4</td>\n",
       "      <td>Left wheel</td>\n",
       "      <td>Black</td>\n",
       "      <td>12</td>\n",
       "    </tr>\n",
       "    <tr>\n",
       "      <th>2283</th>\n",
       "      <td>45786808</td>\n",
       "      <td>219527</td>\n",
       "      <td>528.0</td>\n",
       "      <td>BENTLEY</td>\n",
       "      <td>Continental GT</td>\n",
       "      <td>2012</td>\n",
       "      <td>Coupe</td>\n",
       "      <td>Yes</td>\n",
       "      <td>Petrol</td>\n",
       "      <td>4.0</td>\n",
       "      <td>55500</td>\n",
       "      <td>8.0</td>\n",
       "      <td>Tiptronic</td>\n",
       "      <td>4x4</td>\n",
       "      <td>2</td>\n",
       "      <td>Left wheel</td>\n",
       "      <td>Black</td>\n",
       "      <td>0</td>\n",
       "    </tr>\n",
       "    <tr>\n",
       "      <th>5008</th>\n",
       "      <td>45810285</td>\n",
       "      <td>308906</td>\n",
       "      <td>1694.0</td>\n",
       "      <td>PORSCHE</td>\n",
       "      <td>911</td>\n",
       "      <td>2016</td>\n",
       "      <td>Coupe</td>\n",
       "      <td>Yes</td>\n",
       "      <td>Petrol</td>\n",
       "      <td>4.0</td>\n",
       "      <td>8690</td>\n",
       "      <td>6.0</td>\n",
       "      <td>Automatic</td>\n",
       "      <td>Rear</td>\n",
       "      <td>2</td>\n",
       "      <td>Left wheel</td>\n",
       "      <td>Black</td>\n",
       "      <td>12</td>\n",
       "    </tr>\n",
       "    <tr>\n",
       "      <th>5840</th>\n",
       "      <td>44991441</td>\n",
       "      <td>254024</td>\n",
       "      <td>1292.0</td>\n",
       "      <td>MERCEDES-BENZ</td>\n",
       "      <td>GLE 400 A M G</td>\n",
       "      <td>2016</td>\n",
       "      <td>Jeep</td>\n",
       "      <td>Yes</td>\n",
       "      <td>Petrol</td>\n",
       "      <td>3.0</td>\n",
       "      <td>73000</td>\n",
       "      <td>6.0</td>\n",
       "      <td>Tiptronic</td>\n",
       "      <td>4x4</td>\n",
       "      <td>4</td>\n",
       "      <td>Left wheel</td>\n",
       "      <td>Black</td>\n",
       "      <td>12</td>\n",
       "    </tr>\n",
       "    <tr>\n",
       "      <th>7283</th>\n",
       "      <td>45420737</td>\n",
       "      <td>228935</td>\n",
       "      <td>1016.0</td>\n",
       "      <td>MERCEDES-BENZ</td>\n",
       "      <td>GLE 63 AMG</td>\n",
       "      <td>2018</td>\n",
       "      <td>Jeep</td>\n",
       "      <td>Yes</td>\n",
       "      <td>Petrol</td>\n",
       "      <td>5.5</td>\n",
       "      <td>23000</td>\n",
       "      <td>8.0</td>\n",
       "      <td>Tiptronic</td>\n",
       "      <td>4x4</td>\n",
       "      <td>4</td>\n",
       "      <td>Left wheel</td>\n",
       "      <td>Black</td>\n",
       "      <td>16</td>\n",
       "    </tr>\n",
       "    <tr>\n",
       "      <th>7353</th>\n",
       "      <td>43683199</td>\n",
       "      <td>216391</td>\n",
       "      <td>645.0</td>\n",
       "      <td>MERCEDES-BENZ</td>\n",
       "      <td>G 65 AMG G63 AMG</td>\n",
       "      <td>2013</td>\n",
       "      <td>Jeep</td>\n",
       "      <td>Yes</td>\n",
       "      <td>Petrol</td>\n",
       "      <td>5.5</td>\n",
       "      <td>54000</td>\n",
       "      <td>8.0</td>\n",
       "      <td>Tiptronic</td>\n",
       "      <td>4x4</td>\n",
       "      <td>4</td>\n",
       "      <td>Left wheel</td>\n",
       "      <td>Black</td>\n",
       "      <td>12</td>\n",
       "    </tr>\n",
       "    <tr>\n",
       "      <th>7749</th>\n",
       "      <td>45760644</td>\n",
       "      <td>288521</td>\n",
       "      <td>2269.0</td>\n",
       "      <td>BMW</td>\n",
       "      <td>M5 Машина в максимально</td>\n",
       "      <td>2018</td>\n",
       "      <td>Sedan</td>\n",
       "      <td>Yes</td>\n",
       "      <td>Petrol</td>\n",
       "      <td>4.4</td>\n",
       "      <td>13500</td>\n",
       "      <td>8.0</td>\n",
       "      <td>Tiptronic</td>\n",
       "      <td>4x4</td>\n",
       "      <td>4</td>\n",
       "      <td>Left wheel</td>\n",
       "      <td>Black</td>\n",
       "      <td>0</td>\n",
       "    </tr>\n",
       "    <tr>\n",
       "      <th>8541</th>\n",
       "      <td>45761204</td>\n",
       "      <td>872946</td>\n",
       "      <td>2067.0</td>\n",
       "      <td>LAMBORGHINI</td>\n",
       "      <td>Urus</td>\n",
       "      <td>2019</td>\n",
       "      <td>Universal</td>\n",
       "      <td>Yes</td>\n",
       "      <td>Petrol</td>\n",
       "      <td>4.0</td>\n",
       "      <td>2531</td>\n",
       "      <td>8.0</td>\n",
       "      <td>Tiptronic</td>\n",
       "      <td>4x4</td>\n",
       "      <td>4</td>\n",
       "      <td>Left wheel</td>\n",
       "      <td>Black</td>\n",
       "      <td>0</td>\n",
       "    </tr>\n",
       "    <tr>\n",
       "      <th>9367</th>\n",
       "      <td>45229113</td>\n",
       "      <td>297930</td>\n",
       "      <td>1080.0</td>\n",
       "      <td>MERCEDES-BENZ</td>\n",
       "      <td>AMG GT S</td>\n",
       "      <td>2015</td>\n",
       "      <td>Coupe</td>\n",
       "      <td>Yes</td>\n",
       "      <td>Petrol</td>\n",
       "      <td>4.0</td>\n",
       "      <td>20000</td>\n",
       "      <td>8.0</td>\n",
       "      <td>Tiptronic</td>\n",
       "      <td>Rear</td>\n",
       "      <td>2</td>\n",
       "      <td>Left wheel</td>\n",
       "      <td>White</td>\n",
       "      <td>16</td>\n",
       "    </tr>\n",
       "    <tr>\n",
       "      <th>10759</th>\n",
       "      <td>45291161</td>\n",
       "      <td>260296</td>\n",
       "      <td>639.0</td>\n",
       "      <td>LEXUS</td>\n",
       "      <td>LX 570</td>\n",
       "      <td>2018</td>\n",
       "      <td>Jeep</td>\n",
       "      <td>Yes</td>\n",
       "      <td>Petrol</td>\n",
       "      <td>5.7</td>\n",
       "      <td>17700</td>\n",
       "      <td>8.0</td>\n",
       "      <td>Tiptronic</td>\n",
       "      <td>4x4</td>\n",
       "      <td>4</td>\n",
       "      <td>Left wheel</td>\n",
       "      <td>Black</td>\n",
       "      <td>10</td>\n",
       "    </tr>\n",
       "    <tr>\n",
       "      <th>14839</th>\n",
       "      <td>45792307</td>\n",
       "      <td>297930</td>\n",
       "      <td>832.0</td>\n",
       "      <td>LAND ROVER</td>\n",
       "      <td>Range Rover Vogue</td>\n",
       "      <td>2019</td>\n",
       "      <td>Jeep</td>\n",
       "      <td>Yes</td>\n",
       "      <td>Diesel</td>\n",
       "      <td>3.0</td>\n",
       "      <td>4500</td>\n",
       "      <td>8.0</td>\n",
       "      <td>Tiptronic</td>\n",
       "      <td>4x4</td>\n",
       "      <td>4</td>\n",
       "      <td>Left wheel</td>\n",
       "      <td>Black</td>\n",
       "      <td>12</td>\n",
       "    </tr>\n",
       "    <tr>\n",
       "      <th>15283</th>\n",
       "      <td>45069516</td>\n",
       "      <td>250574</td>\n",
       "      <td>1481.0</td>\n",
       "      <td>MERCEDES-BENZ</td>\n",
       "      <td>GLE 400</td>\n",
       "      <td>2017</td>\n",
       "      <td>Jeep</td>\n",
       "      <td>Yes</td>\n",
       "      <td>Petrol</td>\n",
       "      <td>3.0</td>\n",
       "      <td>81600</td>\n",
       "      <td>6.0</td>\n",
       "      <td>Tiptronic</td>\n",
       "      <td>4x4</td>\n",
       "      <td>4</td>\n",
       "      <td>Left wheel</td>\n",
       "      <td>Black</td>\n",
       "      <td>12</td>\n",
       "    </tr>\n",
       "    <tr>\n",
       "      <th>16983</th>\n",
       "      <td>45812886</td>\n",
       "      <td>26307500</td>\n",
       "      <td>474.0</td>\n",
       "      <td>OPEL</td>\n",
       "      <td>Combo</td>\n",
       "      <td>1999</td>\n",
       "      <td>Goods wagon</td>\n",
       "      <td>No</td>\n",
       "      <td>Diesel</td>\n",
       "      <td>1.7</td>\n",
       "      <td>99999</td>\n",
       "      <td>4.0</td>\n",
       "      <td>Manual</td>\n",
       "      <td>Front</td>\n",
       "      <td>2</td>\n",
       "      <td>Left wheel</td>\n",
       "      <td>Blue</td>\n",
       "      <td>0</td>\n",
       "    </tr>\n",
       "  </tbody>\n",
       "</table>\n",
       "</div>"
      ],
      "text/plain": [
       "             ID     Price    Levy   Manufacturer                    Model  \\\n",
       "1225   45795524    627220   753.0  MERCEDES-BENZ           G 65 AMG 63AMG   \n",
       "2283   45786808    219527   528.0        BENTLEY           Continental GT   \n",
       "5008   45810285    308906  1694.0        PORSCHE                      911   \n",
       "5840   44991441    254024  1292.0  MERCEDES-BENZ            GLE 400 A M G   \n",
       "7283   45420737    228935  1016.0  MERCEDES-BENZ               GLE 63 AMG   \n",
       "7353   43683199    216391   645.0  MERCEDES-BENZ         G 65 AMG G63 AMG   \n",
       "7749   45760644    288521  2269.0            BMW  M5 Машина в максимально   \n",
       "8541   45761204    872946  2067.0    LAMBORGHINI                     Urus   \n",
       "9367   45229113    297930  1080.0  MERCEDES-BENZ                 AMG GT S   \n",
       "10759  45291161    260296   639.0          LEXUS                   LX 570   \n",
       "14839  45792307    297930   832.0     LAND ROVER        Range Rover Vogue   \n",
       "15283  45069516    250574  1481.0  MERCEDES-BENZ                  GLE 400   \n",
       "16983  45812886  26307500   474.0           OPEL                    Combo   \n",
       "\n",
       "       year     Category LeatherInt FuelType  EngineVolume  Mileage  \\\n",
       "1225   2020         Jeep        Yes   Petrol           6.3        0   \n",
       "2283   2012        Coupe        Yes   Petrol           4.0    55500   \n",
       "5008   2016        Coupe        Yes   Petrol           4.0     8690   \n",
       "5840   2016         Jeep        Yes   Petrol           3.0    73000   \n",
       "7283   2018         Jeep        Yes   Petrol           5.5    23000   \n",
       "7353   2013         Jeep        Yes   Petrol           5.5    54000   \n",
       "7749   2018        Sedan        Yes   Petrol           4.4    13500   \n",
       "8541   2019    Universal        Yes   Petrol           4.0     2531   \n",
       "9367   2015        Coupe        Yes   Petrol           4.0    20000   \n",
       "10759  2018         Jeep        Yes   Petrol           5.7    17700   \n",
       "14839  2019         Jeep        Yes   Diesel           3.0     4500   \n",
       "15283  2017         Jeep        Yes   Petrol           3.0    81600   \n",
       "16983  1999  Goods wagon         No   Diesel           1.7    99999   \n",
       "\n",
       "       Cylinders GearBoxType DriveWheels  Doors       Wheel  Color  Airbags  \n",
       "1225         8.0   Tiptronic         4x4      4  Left wheel  Black       12  \n",
       "2283         8.0   Tiptronic         4x4      2  Left wheel  Black        0  \n",
       "5008         6.0   Automatic        Rear      2  Left wheel  Black       12  \n",
       "5840         6.0   Tiptronic         4x4      4  Left wheel  Black       12  \n",
       "7283         8.0   Tiptronic         4x4      4  Left wheel  Black       16  \n",
       "7353         8.0   Tiptronic         4x4      4  Left wheel  Black       12  \n",
       "7749         8.0   Tiptronic         4x4      4  Left wheel  Black        0  \n",
       "8541         8.0   Tiptronic         4x4      4  Left wheel  Black        0  \n",
       "9367         8.0   Tiptronic        Rear      2  Left wheel  White       16  \n",
       "10759        8.0   Tiptronic         4x4      4  Left wheel  Black       10  \n",
       "14839        8.0   Tiptronic         4x4      4  Left wheel  Black       12  \n",
       "15283        6.0   Tiptronic         4x4      4  Left wheel  Black       12  \n",
       "16983        4.0      Manual       Front      2  Left wheel   Blue        0  "
      ]
     },
     "execution_count": 151,
     "metadata": {},
     "output_type": "execute_result"
    }
   ],
   "source": [
    "cars[cars.Price > 200000]"
   ]
  },
  {
   "cell_type": "code",
   "execution_count": 152,
   "id": "ddab3e35",
   "metadata": {},
   "outputs": [],
   "source": [
    " # Remove lower outlier in Price\n",
    "\n",
    "cars = cars[cars.Price > 1000]"
   ]
  },
  {
   "cell_type": "code",
   "execution_count": 153,
   "id": "761ed88d",
   "metadata": {},
   "outputs": [],
   "source": [
    "# Remove upper outlier in Price\n",
    "\n",
    "cars = cars[cars.Price < 200000]"
   ]
  },
  {
   "cell_type": "code",
   "execution_count": 154,
   "id": "21a94149",
   "metadata": {},
   "outputs": [
    {
     "data": {
      "text/plain": [
       "(16485, 18)"
      ]
     },
     "execution_count": 154,
     "metadata": {},
     "output_type": "execute_result"
    }
   ],
   "source": [
    "cars.shape"
   ]
  },
  {
   "cell_type": "code",
   "execution_count": 155,
   "id": "9422368c",
   "metadata": {},
   "outputs": [
    {
     "data": {
      "image/png": "[encoded data removed]",
      "text/plain": [
       "<Figure size 1800x360 with 1 Axes>"
      ]
     },
     "metadata": {
      "needs_background": "light"
     },
     "output_type": "display_data"
    }
   ],
   "source": [
    "# Outlier detection\n",
    "plt.figure(figsize = (25,5))\n",
    "sns.boxplot(cars['Price'])\n",
    "plt.show()"
   ]
  },
  {
   "cell_type": "markdown",
   "id": "e26f4f9a",
   "metadata": {},
   "source": [
    "**COMMENT :-** Because we have large amount and in cluster of outlier it is not good idea to remove whole outlier because they are in large amount and may contain important information so we try to remove only those outlier which is not in cluster because it does not give sufficient information or may be it is extreme/rare cases of occurance."
   ]
  },
  {
   "cell_type": "code",
   "execution_count": 156,
   "id": "7736c2c3",
   "metadata": {},
   "outputs": [
    {
     "name": "stdout",
     "output_type": "stream",
     "text": [
      "upper bound:- 47620.0\n",
      "no of outlier which are outside the upper bound:- 1027\n",
      "no of outlier which are above 100000:-  98\n",
      "no of outlier which are above 70000:-  311\n"
     ]
    }
   ],
   "source": [
    "Q1 = np.percentile(cars['Price'],25)\n",
    "Q3 = np.percentile(cars['Price'],75)\n",
    "IQR = Q3 - Q1\n",
    "    \n",
    "    # Define lower and Upper bound\n",
    "lower_bound = Q1 - (1.5*IQR)\n",
    "upper_bound = Q3 + (1.5*IQR)\n",
    "print('upper bound:-', upper_bound)\n",
    "print('no of outlier which are outside the upper bound:-',  (cars['Price'] > upper_bound).sum())\n",
    "print('no of outlier which are above 100000:- ', (cars['Price'] > 100000).sum())\n",
    "print('no of outlier which are above 70000:- ', (cars['Price'] > 70000).sum())"
   ]
  },
  {
   "cell_type": "code",
   "execution_count": 157,
   "id": "d5c9c64b",
   "metadata": {},
   "outputs": [],
   "source": [
    "cars = cars[cars['Price']<70000]"
   ]
  },
  {
   "cell_type": "code",
   "execution_count": 158,
   "id": "265691cf",
   "metadata": {},
   "outputs": [
    {
     "data": {
      "image/png": "[encoded data removed]",
      "text/plain": [
       "<Figure size 1800x360 with 1 Axes>"
      ]
     },
     "metadata": {
      "needs_background": "light"
     },
     "output_type": "display_data"
    }
   ],
   "source": [
    "# Outlier detection\n",
    "plt.figure(figsize = (25,5))\n",
    "sns.boxplot(cars['Price'])\n",
    "plt.show()"
   ]
  },
  {
   "cell_type": "code",
   "execution_count": 159,
   "id": "35fa6eb3",
   "metadata": {},
   "outputs": [
    {
     "data": {
      "image/png": "[encoded data removed]",
      "text/plain": [
       "<Figure size 1800x360 with 1 Axes>"
      ]
     },
     "metadata": {
      "needs_background": "light"
     },
     "output_type": "display_data"
    }
   ],
   "source": [
    "# Boxplot of Levy\n",
    "plt.figure(figsize = (25,5))\n",
    "sns.boxplot(cars['Levy'])\n",
    "plt.show()"
   ]
  },
  {
   "cell_type": "code",
   "execution_count": 160,
   "id": "9e7cfda8",
   "metadata": {},
   "outputs": [
    {
     "data": {
      "text/plain": [
       "(16174, 18)"
      ]
     },
     "execution_count": 160,
     "metadata": {},
     "output_type": "execute_result"
    }
   ],
   "source": [
    "cars.shape"
   ]
  },
  {
   "cell_type": "code",
   "execution_count": 161,
   "id": "1c994ce9",
   "metadata": {},
   "outputs": [],
   "source": [
    "def outliers_detection(data,f):\n",
    "    #  IQR method to treat the outliers\n",
    "    Q1 = np.percentile(data[f],25)\n",
    "    Q3 = np.percentile(data[f],75)\n",
    "    IQR = Q3 - Q1\n",
    "    \n",
    "    # Define lower and Upper bound\n",
    "    lower_bound = Q1 - (1.5*IQR)\n",
    "    data = data[data[f]> lower_bound]\n",
    "    upper_bound = Q3 + (1.5*IQR)\n",
    "    data = data[data[f]< upper_bound]\n",
    "    \n",
    "    return data"
   ]
  },
  {
   "cell_type": "code",
   "execution_count": 162,
   "id": "ee42d551",
   "metadata": {},
   "outputs": [],
   "source": [
    "\n",
    "## using for loop to extract outlier from Levy column\n",
    "\n",
    "for i in range(1):\n",
    "    for feature in ['Levy']:   #'Price', \n",
    "        cars = outliers_detection(cars,feature)\n",
    "\n"
   ]
  },
  {
   "cell_type": "code",
   "execution_count": 163,
   "id": "d882088e",
   "metadata": {},
   "outputs": [
    {
     "data": {
      "image/png": "[encoded data removed]",
      "text/plain": [
       "<Figure size 432x288 with 1 Axes>"
      ]
     },
     "metadata": {
      "needs_background": "light"
     },
     "output_type": "display_data"
    }
   ],
   "source": [
    "sns.boxplot(cars['Price'])\n",
    "plt.show()"
   ]
  },
  {
   "cell_type": "code",
   "execution_count": 164,
   "id": "095e125b",
   "metadata": {},
   "outputs": [
    {
     "data": {
      "image/png": "[encoded data removed]",
      "text/plain": [
       "<Figure size 432x288 with 1 Axes>"
      ]
     },
     "metadata": {
      "needs_background": "light"
     },
     "output_type": "display_data"
    }
   ],
   "source": [
    "sns.boxplot(cars['Levy'])\n",
    "plt.show()"
   ]
  },
  {
   "cell_type": "code",
   "execution_count": 165,
   "id": "abebc94a",
   "metadata": {},
   "outputs": [
    {
     "data": {
      "text/plain": [
       "(15407, 18)"
      ]
     },
     "execution_count": 165,
     "metadata": {},
     "output_type": "execute_result"
    }
   ],
   "source": [
    "cars.shape"
   ]
  },
  {
   "cell_type": "code",
   "execution_count": 166,
   "id": "cb8d29ca",
   "metadata": {},
   "outputs": [
    {
     "data": {
      "image/png": "[encoded data removed]",
      "text/plain": [
       "<Figure size 432x288 with 1 Axes>"
      ]
     },
     "metadata": {
      "needs_background": "light"
     },
     "output_type": "display_data"
    }
   ],
   "source": [
    "sns.histplot(cars['Price'], kde = True)\n",
    "plt.show()"
   ]
  },
  {
   "cell_type": "code",
   "execution_count": 167,
   "id": "a35bf9ad",
   "metadata": {},
   "outputs": [
    {
     "data": {
      "text/html": [
       "<div>\n",
       "<style scoped>\n",
       "    .dataframe tbody tr th:only-of-type {\n",
       "        vertical-align: middle;\n",
       "    }\n",
       "\n",
       "    .dataframe tbody tr th {\n",
       "        vertical-align: top;\n",
       "    }\n",
       "\n",
       "    .dataframe thead th {\n",
       "        text-align: right;\n",
       "    }\n",
       "</style>\n",
       "<table border=\"1\" class=\"dataframe\">\n",
       "  <thead>\n",
       "    <tr style=\"text-align: right;\">\n",
       "      <th></th>\n",
       "      <th>ID</th>\n",
       "      <th>Price</th>\n",
       "      <th>Levy</th>\n",
       "      <th>year</th>\n",
       "      <th>EngineVolume</th>\n",
       "      <th>Mileage</th>\n",
       "      <th>Cylinders</th>\n",
       "      <th>Doors</th>\n",
       "      <th>Airbags</th>\n",
       "    </tr>\n",
       "  </thead>\n",
       "  <tbody>\n",
       "    <tr>\n",
       "      <th>count</th>\n",
       "      <td>1.540700e+04</td>\n",
       "      <td>15407.000000</td>\n",
       "      <td>15407.000000</td>\n",
       "      <td>15407.000000</td>\n",
       "      <td>15407.000000</td>\n",
       "      <td>1.540700e+04</td>\n",
       "      <td>15407.000000</td>\n",
       "      <td>15407.000000</td>\n",
       "      <td>15407.000000</td>\n",
       "    </tr>\n",
       "    <tr>\n",
       "      <th>mean</th>\n",
       "      <td>4.560941e+07</td>\n",
       "      <td>18111.756604</td>\n",
       "      <td>827.210554</td>\n",
       "      <td>2010.746803</td>\n",
       "      <td>2.196106</td>\n",
       "      <td>1.315545e+06</td>\n",
       "      <td>4.443954</td>\n",
       "      <td>3.920101</td>\n",
       "      <td>6.317323</td>\n",
       "    </tr>\n",
       "    <tr>\n",
       "      <th>std</th>\n",
       "      <td>7.222689e+05</td>\n",
       "      <td>13377.732153</td>\n",
       "      <td>278.054002</td>\n",
       "      <td>5.667065</td>\n",
       "      <td>0.738045</td>\n",
       "      <td>4.365625e+07</td>\n",
       "      <td>1.061443</td>\n",
       "      <td>0.416977</td>\n",
       "      <td>4.046045</td>\n",
       "    </tr>\n",
       "    <tr>\n",
       "      <th>min</th>\n",
       "      <td>2.494033e+07</td>\n",
       "      <td>1019.000000</td>\n",
       "      <td>87.000000</td>\n",
       "      <td>1953.000000</td>\n",
       "      <td>0.000000</td>\n",
       "      <td>0.000000e+00</td>\n",
       "      <td>1.000000</td>\n",
       "      <td>2.000000</td>\n",
       "      <td>0.000000</td>\n",
       "    </tr>\n",
       "    <tr>\n",
       "      <th>25%</th>\n",
       "      <td>4.572663e+07</td>\n",
       "      <td>8467.000000</td>\n",
       "      <td>639.000000</td>\n",
       "      <td>2009.000000</td>\n",
       "      <td>1.700000</td>\n",
       "      <td>7.076350e+04</td>\n",
       "      <td>4.000000</td>\n",
       "      <td>4.000000</td>\n",
       "      <td>4.000000</td>\n",
       "    </tr>\n",
       "    <tr>\n",
       "      <th>50%</th>\n",
       "      <td>4.577686e+07</td>\n",
       "      <td>15053.000000</td>\n",
       "      <td>777.000000</td>\n",
       "      <td>2012.000000</td>\n",
       "      <td>2.000000</td>\n",
       "      <td>1.239320e+05</td>\n",
       "      <td>4.000000</td>\n",
       "      <td>4.000000</td>\n",
       "      <td>4.000000</td>\n",
       "    </tr>\n",
       "    <tr>\n",
       "      <th>75%</th>\n",
       "      <td>4.580221e+07</td>\n",
       "      <td>23521.000000</td>\n",
       "      <td>1017.000000</td>\n",
       "      <td>2014.000000</td>\n",
       "      <td>2.500000</td>\n",
       "      <td>1.806590e+05</td>\n",
       "      <td>4.000000</td>\n",
       "      <td>4.000000</td>\n",
       "      <td>10.000000</td>\n",
       "    </tr>\n",
       "    <tr>\n",
       "      <th>max</th>\n",
       "      <td>4.581665e+07</td>\n",
       "      <td>69935.000000</td>\n",
       "      <td>1664.000000</td>\n",
       "      <td>2020.000000</td>\n",
       "      <td>6.300000</td>\n",
       "      <td>2.147484e+09</td>\n",
       "      <td>16.000000</td>\n",
       "      <td>5.000000</td>\n",
       "      <td>16.000000</td>\n",
       "    </tr>\n",
       "  </tbody>\n",
       "</table>\n",
       "</div>"
      ],
      "text/plain": [
       "                 ID         Price          Levy          year  EngineVolume  \\\n",
       "count  1.540700e+04  15407.000000  15407.000000  15407.000000  15407.000000   \n",
       "mean   4.560941e+07  18111.756604    827.210554   2010.746803      2.196106   \n",
       "std    7.222689e+05  13377.732153    278.054002      5.667065      0.738045   \n",
       "min    2.494033e+07   1019.000000     87.000000   1953.000000      0.000000   \n",
       "25%    4.572663e+07   8467.000000    639.000000   2009.000000      1.700000   \n",
       "50%    4.577686e+07  15053.000000    777.000000   2012.000000      2.000000   \n",
       "75%    4.580221e+07  23521.000000   1017.000000   2014.000000      2.500000   \n",
       "max    4.581665e+07  69935.000000   1664.000000   2020.000000      6.300000   \n",
       "\n",
       "            Mileage     Cylinders         Doors       Airbags  \n",
       "count  1.540700e+04  15407.000000  15407.000000  15407.000000  \n",
       "mean   1.315545e+06      4.443954      3.920101      6.317323  \n",
       "std    4.365625e+07      1.061443      0.416977      4.046045  \n",
       "min    0.000000e+00      1.000000      2.000000      0.000000  \n",
       "25%    7.076350e+04      4.000000      4.000000      4.000000  \n",
       "50%    1.239320e+05      4.000000      4.000000      4.000000  \n",
       "75%    1.806590e+05      4.000000      4.000000     10.000000  \n",
       "max    2.147484e+09     16.000000      5.000000     16.000000  "
      ]
     },
     "execution_count": 167,
     "metadata": {},
     "output_type": "execute_result"
    }
   ],
   "source": [
    "cars.describe()"
   ]
  },
  {
   "cell_type": "markdown",
   "id": "2d75c33e",
   "metadata": {},
   "source": [
    "**COMMENT :-** Here year of cars made given, Let's also try age of cars also"
   ]
  },
  {
   "cell_type": "markdown",
   "id": "38f13718",
   "metadata": {},
   "source": [
    "**8. Creating column for car age**"
   ]
  },
  {
   "cell_type": "code",
   "execution_count": 168,
   "id": "33b72daa",
   "metadata": {},
   "outputs": [],
   "source": [
    "cars['Current Year'] = 2023\n",
    "cars['Age'] =  cars['Current Year'] - cars['year']\n",
    "cars.drop(columns = ['Current Year'], inplace = True)"
   ]
  },
  {
   "cell_type": "code",
   "execution_count": 169,
   "id": "b06dbec6",
   "metadata": {},
   "outputs": [
    {
     "data": {
      "text/plain": [
       "(15407, 19)"
      ]
     },
     "execution_count": 169,
     "metadata": {},
     "output_type": "execute_result"
    }
   ],
   "source": [
    "cars.shape"
   ]
  },
  {
   "cell_type": "code",
   "execution_count": 170,
   "id": "ac530c7a",
   "metadata": {},
   "outputs": [
    {
     "data": {
      "text/html": [
       "<div>\n",
       "<style scoped>\n",
       "    .dataframe tbody tr th:only-of-type {\n",
       "        vertical-align: middle;\n",
       "    }\n",
       "\n",
       "    .dataframe tbody tr th {\n",
       "        vertical-align: top;\n",
       "    }\n",
       "\n",
       "    .dataframe thead th {\n",
       "        text-align: right;\n",
       "    }\n",
       "</style>\n",
       "<table border=\"1\" class=\"dataframe\">\n",
       "  <thead>\n",
       "    <tr style=\"text-align: right;\">\n",
       "      <th></th>\n",
       "      <th>ID</th>\n",
       "      <th>Price</th>\n",
       "      <th>Levy</th>\n",
       "      <th>Manufacturer</th>\n",
       "      <th>Model</th>\n",
       "      <th>year</th>\n",
       "      <th>Category</th>\n",
       "      <th>LeatherInt</th>\n",
       "      <th>FuelType</th>\n",
       "      <th>EngineVolume</th>\n",
       "      <th>Mileage</th>\n",
       "      <th>Cylinders</th>\n",
       "      <th>GearBoxType</th>\n",
       "      <th>DriveWheels</th>\n",
       "      <th>Doors</th>\n",
       "      <th>Wheel</th>\n",
       "      <th>Color</th>\n",
       "      <th>Airbags</th>\n",
       "      <th>Age</th>\n",
       "    </tr>\n",
       "  </thead>\n",
       "  <tbody>\n",
       "    <tr>\n",
       "      <th>0</th>\n",
       "      <td>45654403</td>\n",
       "      <td>13328</td>\n",
       "      <td>1399.0</td>\n",
       "      <td>LEXUS</td>\n",
       "      <td>RX 450</td>\n",
       "      <td>2010</td>\n",
       "      <td>Jeep</td>\n",
       "      <td>Yes</td>\n",
       "      <td>Hybrid</td>\n",
       "      <td>3.5</td>\n",
       "      <td>186005</td>\n",
       "      <td>6.0</td>\n",
       "      <td>Automatic</td>\n",
       "      <td>4x4</td>\n",
       "      <td>4</td>\n",
       "      <td>Left wheel</td>\n",
       "      <td>Silver</td>\n",
       "      <td>12</td>\n",
       "      <td>13</td>\n",
       "    </tr>\n",
       "    <tr>\n",
       "      <th>1</th>\n",
       "      <td>44731507</td>\n",
       "      <td>16621</td>\n",
       "      <td>1018.0</td>\n",
       "      <td>CHEVROLET</td>\n",
       "      <td>Equinox</td>\n",
       "      <td>2011</td>\n",
       "      <td>Jeep</td>\n",
       "      <td>No</td>\n",
       "      <td>Petrol</td>\n",
       "      <td>3.0</td>\n",
       "      <td>192000</td>\n",
       "      <td>6.0</td>\n",
       "      <td>Tiptronic</td>\n",
       "      <td>4x4</td>\n",
       "      <td>4</td>\n",
       "      <td>Left wheel</td>\n",
       "      <td>Black</td>\n",
       "      <td>8</td>\n",
       "      <td>12</td>\n",
       "    </tr>\n",
       "    <tr>\n",
       "      <th>2</th>\n",
       "      <td>45774419</td>\n",
       "      <td>8467</td>\n",
       "      <td>1018.0</td>\n",
       "      <td>HONDA</td>\n",
       "      <td>FIT</td>\n",
       "      <td>2006</td>\n",
       "      <td>Hatchback</td>\n",
       "      <td>No</td>\n",
       "      <td>Petrol</td>\n",
       "      <td>1.3</td>\n",
       "      <td>200000</td>\n",
       "      <td>4.0</td>\n",
       "      <td>Variator</td>\n",
       "      <td>Front</td>\n",
       "      <td>4</td>\n",
       "      <td>Right-hand drive</td>\n",
       "      <td>Black</td>\n",
       "      <td>2</td>\n",
       "      <td>17</td>\n",
       "    </tr>\n",
       "    <tr>\n",
       "      <th>3</th>\n",
       "      <td>45769185</td>\n",
       "      <td>3607</td>\n",
       "      <td>862.0</td>\n",
       "      <td>FORD</td>\n",
       "      <td>Escape</td>\n",
       "      <td>2011</td>\n",
       "      <td>Jeep</td>\n",
       "      <td>Yes</td>\n",
       "      <td>Hybrid</td>\n",
       "      <td>2.5</td>\n",
       "      <td>168966</td>\n",
       "      <td>4.0</td>\n",
       "      <td>Automatic</td>\n",
       "      <td>4x4</td>\n",
       "      <td>4</td>\n",
       "      <td>Left wheel</td>\n",
       "      <td>White</td>\n",
       "      <td>0</td>\n",
       "      <td>12</td>\n",
       "    </tr>\n",
       "    <tr>\n",
       "      <th>4</th>\n",
       "      <td>45809263</td>\n",
       "      <td>11726</td>\n",
       "      <td>446.0</td>\n",
       "      <td>HONDA</td>\n",
       "      <td>FIT</td>\n",
       "      <td>2014</td>\n",
       "      <td>Hatchback</td>\n",
       "      <td>Yes</td>\n",
       "      <td>Petrol</td>\n",
       "      <td>1.3</td>\n",
       "      <td>91901</td>\n",
       "      <td>4.0</td>\n",
       "      <td>Automatic</td>\n",
       "      <td>Front</td>\n",
       "      <td>4</td>\n",
       "      <td>Left wheel</td>\n",
       "      <td>Silver</td>\n",
       "      <td>4</td>\n",
       "      <td>9</td>\n",
       "    </tr>\n",
       "    <tr>\n",
       "      <th>...</th>\n",
       "      <td>...</td>\n",
       "      <td>...</td>\n",
       "      <td>...</td>\n",
       "      <td>...</td>\n",
       "      <td>...</td>\n",
       "      <td>...</td>\n",
       "      <td>...</td>\n",
       "      <td>...</td>\n",
       "      <td>...</td>\n",
       "      <td>...</td>\n",
       "      <td>...</td>\n",
       "      <td>...</td>\n",
       "      <td>...</td>\n",
       "      <td>...</td>\n",
       "      <td>...</td>\n",
       "      <td>...</td>\n",
       "      <td>...</td>\n",
       "      <td>...</td>\n",
       "      <td>...</td>\n",
       "    </tr>\n",
       "    <tr>\n",
       "      <th>19231</th>\n",
       "      <td>45772306</td>\n",
       "      <td>5802</td>\n",
       "      <td>1055.0</td>\n",
       "      <td>MERCEDES-BENZ</td>\n",
       "      <td>E 350</td>\n",
       "      <td>2013</td>\n",
       "      <td>Sedan</td>\n",
       "      <td>Yes</td>\n",
       "      <td>Diesel</td>\n",
       "      <td>3.5</td>\n",
       "      <td>107800</td>\n",
       "      <td>6.0</td>\n",
       "      <td>Automatic</td>\n",
       "      <td>Rear</td>\n",
       "      <td>4</td>\n",
       "      <td>Left wheel</td>\n",
       "      <td>Grey</td>\n",
       "      <td>12</td>\n",
       "      <td>10</td>\n",
       "    </tr>\n",
       "    <tr>\n",
       "      <th>19232</th>\n",
       "      <td>45798355</td>\n",
       "      <td>8467</td>\n",
       "      <td>1055.0</td>\n",
       "      <td>MERCEDES-BENZ</td>\n",
       "      <td>CLK 200</td>\n",
       "      <td>1999</td>\n",
       "      <td>Coupe</td>\n",
       "      <td>Yes</td>\n",
       "      <td>CNG</td>\n",
       "      <td>2.0</td>\n",
       "      <td>300000</td>\n",
       "      <td>4.0</td>\n",
       "      <td>Manual</td>\n",
       "      <td>Rear</td>\n",
       "      <td>2</td>\n",
       "      <td>Left wheel</td>\n",
       "      <td>Silver</td>\n",
       "      <td>5</td>\n",
       "      <td>24</td>\n",
       "    </tr>\n",
       "    <tr>\n",
       "      <th>19233</th>\n",
       "      <td>45778856</td>\n",
       "      <td>15681</td>\n",
       "      <td>831.0</td>\n",
       "      <td>HYUNDAI</td>\n",
       "      <td>Sonata</td>\n",
       "      <td>2011</td>\n",
       "      <td>Sedan</td>\n",
       "      <td>Yes</td>\n",
       "      <td>Petrol</td>\n",
       "      <td>2.4</td>\n",
       "      <td>161600</td>\n",
       "      <td>4.0</td>\n",
       "      <td>Tiptronic</td>\n",
       "      <td>Front</td>\n",
       "      <td>4</td>\n",
       "      <td>Left wheel</td>\n",
       "      <td>Red</td>\n",
       "      <td>8</td>\n",
       "      <td>12</td>\n",
       "    </tr>\n",
       "    <tr>\n",
       "      <th>19234</th>\n",
       "      <td>45804997</td>\n",
       "      <td>26108</td>\n",
       "      <td>836.0</td>\n",
       "      <td>HYUNDAI</td>\n",
       "      <td>Tucson</td>\n",
       "      <td>2010</td>\n",
       "      <td>Jeep</td>\n",
       "      <td>Yes</td>\n",
       "      <td>Diesel</td>\n",
       "      <td>2.0</td>\n",
       "      <td>116365</td>\n",
       "      <td>4.0</td>\n",
       "      <td>Automatic</td>\n",
       "      <td>Front</td>\n",
       "      <td>4</td>\n",
       "      <td>Left wheel</td>\n",
       "      <td>Grey</td>\n",
       "      <td>4</td>\n",
       "      <td>13</td>\n",
       "    </tr>\n",
       "    <tr>\n",
       "      <th>19235</th>\n",
       "      <td>45793526</td>\n",
       "      <td>5331</td>\n",
       "      <td>1288.0</td>\n",
       "      <td>CHEVROLET</td>\n",
       "      <td>Captiva</td>\n",
       "      <td>2007</td>\n",
       "      <td>Jeep</td>\n",
       "      <td>Yes</td>\n",
       "      <td>Diesel</td>\n",
       "      <td>2.0</td>\n",
       "      <td>51258</td>\n",
       "      <td>4.0</td>\n",
       "      <td>Automatic</td>\n",
       "      <td>Front</td>\n",
       "      <td>4</td>\n",
       "      <td>Left wheel</td>\n",
       "      <td>Black</td>\n",
       "      <td>4</td>\n",
       "      <td>16</td>\n",
       "    </tr>\n",
       "  </tbody>\n",
       "</table>\n",
       "<p>15407 rows × 19 columns</p>\n",
       "</div>"
      ],
      "text/plain": [
       "             ID  Price    Levy   Manufacturer    Model  year   Category  \\\n",
       "0      45654403  13328  1399.0          LEXUS   RX 450  2010       Jeep   \n",
       "1      44731507  16621  1018.0      CHEVROLET  Equinox  2011       Jeep   \n",
       "2      45774419   8467  1018.0          HONDA      FIT  2006  Hatchback   \n",
       "3      45769185   3607   862.0           FORD   Escape  2011       Jeep   \n",
       "4      45809263  11726   446.0          HONDA      FIT  2014  Hatchback   \n",
       "...         ...    ...     ...            ...      ...   ...        ...   \n",
       "19231  45772306   5802  1055.0  MERCEDES-BENZ    E 350  2013      Sedan   \n",
       "19232  45798355   8467  1055.0  MERCEDES-BENZ  CLK 200  1999      Coupe   \n",
       "19233  45778856  15681   831.0        HYUNDAI   Sonata  2011      Sedan   \n",
       "19234  45804997  26108   836.0        HYUNDAI   Tucson  2010       Jeep   \n",
       "19235  45793526   5331  1288.0      CHEVROLET  Captiva  2007       Jeep   \n",
       "\n",
       "      LeatherInt FuelType  EngineVolume  Mileage  Cylinders GearBoxType  \\\n",
       "0            Yes   Hybrid           3.5   186005        6.0   Automatic   \n",
       "1             No   Petrol           3.0   192000        6.0   Tiptronic   \n",
       "2             No   Petrol           1.3   200000        4.0    Variator   \n",
       "3            Yes   Hybrid           2.5   168966        4.0   Automatic   \n",
       "4            Yes   Petrol           1.3    91901        4.0   Automatic   \n",
       "...          ...      ...           ...      ...        ...         ...   \n",
       "19231        Yes   Diesel           3.5   107800        6.0   Automatic   \n",
       "19232        Yes      CNG           2.0   300000        4.0      Manual   \n",
       "19233        Yes   Petrol           2.4   161600        4.0   Tiptronic   \n",
       "19234        Yes   Diesel           2.0   116365        4.0   Automatic   \n",
       "19235        Yes   Diesel           2.0    51258        4.0   Automatic   \n",
       "\n",
       "      DriveWheels  Doors             Wheel   Color  Airbags  Age  \n",
       "0             4x4      4        Left wheel  Silver       12   13  \n",
       "1             4x4      4        Left wheel   Black        8   12  \n",
       "2           Front      4  Right-hand drive   Black        2   17  \n",
       "3             4x4      4        Left wheel   White        0   12  \n",
       "4           Front      4        Left wheel  Silver        4    9  \n",
       "...           ...    ...               ...     ...      ...  ...  \n",
       "19231        Rear      4        Left wheel    Grey       12   10  \n",
       "19232        Rear      2        Left wheel  Silver        5   24  \n",
       "19233       Front      4        Left wheel     Red        8   12  \n",
       "19234       Front      4        Left wheel    Grey        4   13  \n",
       "19235       Front      4        Left wheel   Black        4   16  \n",
       "\n",
       "[15407 rows x 19 columns]"
      ]
     },
     "execution_count": 170,
     "metadata": {},
     "output_type": "execute_result"
    }
   ],
   "source": [
    "cars"
   ]
  },
  {
   "cell_type": "markdown",
   "id": "195916aa",
   "metadata": {},
   "source": [
    "### MODEL"
   ]
  },
  {
   "cell_type": "code",
   "execution_count": 171,
   "id": "67401c73",
   "metadata": {},
   "outputs": [],
   "source": [
    "cars.drop(columns = ['ID'], axis = 1, inplace = True)"
   ]
  },
  {
   "cell_type": "code",
   "execution_count": 172,
   "id": "22cbc642",
   "metadata": {},
   "outputs": [],
   "source": [
    "# Reset index \n",
    "\n",
    "cars.reset_index(inplace = True)"
   ]
  },
  {
   "cell_type": "code",
   "execution_count": 173,
   "id": "d4bed570",
   "metadata": {},
   "outputs": [],
   "source": [
    "cars.drop(['index'], axis = 1, inplace = True)"
   ]
  },
  {
   "cell_type": "code",
   "execution_count": 174,
   "id": "aea5fd18",
   "metadata": {},
   "outputs": [
    {
     "data": {
      "text/html": [
       "<div>\n",
       "<style scoped>\n",
       "    .dataframe tbody tr th:only-of-type {\n",
       "        vertical-align: middle;\n",
       "    }\n",
       "\n",
       "    .dataframe tbody tr th {\n",
       "        vertical-align: top;\n",
       "    }\n",
       "\n",
       "    .dataframe thead th {\n",
       "        text-align: right;\n",
       "    }\n",
       "</style>\n",
       "<table border=\"1\" class=\"dataframe\">\n",
       "  <thead>\n",
       "    <tr style=\"text-align: right;\">\n",
       "      <th></th>\n",
       "      <th>Price</th>\n",
       "      <th>Levy</th>\n",
       "      <th>Manufacturer</th>\n",
       "      <th>Model</th>\n",
       "      <th>year</th>\n",
       "      <th>Category</th>\n",
       "      <th>LeatherInt</th>\n",
       "      <th>FuelType</th>\n",
       "      <th>EngineVolume</th>\n",
       "      <th>Mileage</th>\n",
       "      <th>Cylinders</th>\n",
       "      <th>GearBoxType</th>\n",
       "      <th>DriveWheels</th>\n",
       "      <th>Doors</th>\n",
       "      <th>Wheel</th>\n",
       "      <th>Color</th>\n",
       "      <th>Airbags</th>\n",
       "      <th>Age</th>\n",
       "    </tr>\n",
       "  </thead>\n",
       "  <tbody>\n",
       "    <tr>\n",
       "      <th>0</th>\n",
       "      <td>13328</td>\n",
       "      <td>1399.0</td>\n",
       "      <td>LEXUS</td>\n",
       "      <td>RX 450</td>\n",
       "      <td>2010</td>\n",
       "      <td>Jeep</td>\n",
       "      <td>Yes</td>\n",
       "      <td>Hybrid</td>\n",
       "      <td>3.5</td>\n",
       "      <td>186005</td>\n",
       "      <td>6.0</td>\n",
       "      <td>Automatic</td>\n",
       "      <td>4x4</td>\n",
       "      <td>4</td>\n",
       "      <td>Left wheel</td>\n",
       "      <td>Silver</td>\n",
       "      <td>12</td>\n",
       "      <td>13</td>\n",
       "    </tr>\n",
       "    <tr>\n",
       "      <th>1</th>\n",
       "      <td>16621</td>\n",
       "      <td>1018.0</td>\n",
       "      <td>CHEVROLET</td>\n",
       "      <td>Equinox</td>\n",
       "      <td>2011</td>\n",
       "      <td>Jeep</td>\n",
       "      <td>No</td>\n",
       "      <td>Petrol</td>\n",
       "      <td>3.0</td>\n",
       "      <td>192000</td>\n",
       "      <td>6.0</td>\n",
       "      <td>Tiptronic</td>\n",
       "      <td>4x4</td>\n",
       "      <td>4</td>\n",
       "      <td>Left wheel</td>\n",
       "      <td>Black</td>\n",
       "      <td>8</td>\n",
       "      <td>12</td>\n",
       "    </tr>\n",
       "    <tr>\n",
       "      <th>2</th>\n",
       "      <td>8467</td>\n",
       "      <td>1018.0</td>\n",
       "      <td>HONDA</td>\n",
       "      <td>FIT</td>\n",
       "      <td>2006</td>\n",
       "      <td>Hatchback</td>\n",
       "      <td>No</td>\n",
       "      <td>Petrol</td>\n",
       "      <td>1.3</td>\n",
       "      <td>200000</td>\n",
       "      <td>4.0</td>\n",
       "      <td>Variator</td>\n",
       "      <td>Front</td>\n",
       "      <td>4</td>\n",
       "      <td>Right-hand drive</td>\n",
       "      <td>Black</td>\n",
       "      <td>2</td>\n",
       "      <td>17</td>\n",
       "    </tr>\n",
       "    <tr>\n",
       "      <th>3</th>\n",
       "      <td>3607</td>\n",
       "      <td>862.0</td>\n",
       "      <td>FORD</td>\n",
       "      <td>Escape</td>\n",
       "      <td>2011</td>\n",
       "      <td>Jeep</td>\n",
       "      <td>Yes</td>\n",
       "      <td>Hybrid</td>\n",
       "      <td>2.5</td>\n",
       "      <td>168966</td>\n",
       "      <td>4.0</td>\n",
       "      <td>Automatic</td>\n",
       "      <td>4x4</td>\n",
       "      <td>4</td>\n",
       "      <td>Left wheel</td>\n",
       "      <td>White</td>\n",
       "      <td>0</td>\n",
       "      <td>12</td>\n",
       "    </tr>\n",
       "    <tr>\n",
       "      <th>4</th>\n",
       "      <td>11726</td>\n",
       "      <td>446.0</td>\n",
       "      <td>HONDA</td>\n",
       "      <td>FIT</td>\n",
       "      <td>2014</td>\n",
       "      <td>Hatchback</td>\n",
       "      <td>Yes</td>\n",
       "      <td>Petrol</td>\n",
       "      <td>1.3</td>\n",
       "      <td>91901</td>\n",
       "      <td>4.0</td>\n",
       "      <td>Automatic</td>\n",
       "      <td>Front</td>\n",
       "      <td>4</td>\n",
       "      <td>Left wheel</td>\n",
       "      <td>Silver</td>\n",
       "      <td>4</td>\n",
       "      <td>9</td>\n",
       "    </tr>\n",
       "  </tbody>\n",
       "</table>\n",
       "</div>"
      ],
      "text/plain": [
       "   Price    Levy Manufacturer    Model  year   Category LeatherInt FuelType  \\\n",
       "0  13328  1399.0        LEXUS   RX 450  2010       Jeep        Yes   Hybrid   \n",
       "1  16621  1018.0    CHEVROLET  Equinox  2011       Jeep         No   Petrol   \n",
       "2   8467  1018.0        HONDA      FIT  2006  Hatchback         No   Petrol   \n",
       "3   3607   862.0         FORD   Escape  2011       Jeep        Yes   Hybrid   \n",
       "4  11726   446.0        HONDA      FIT  2014  Hatchback        Yes   Petrol   \n",
       "\n",
       "   EngineVolume  Mileage  Cylinders GearBoxType DriveWheels  Doors  \\\n",
       "0           3.5   186005        6.0   Automatic         4x4      4   \n",
       "1           3.0   192000        6.0   Tiptronic         4x4      4   \n",
       "2           1.3   200000        4.0    Variator       Front      4   \n",
       "3           2.5   168966        4.0   Automatic         4x4      4   \n",
       "4           1.3    91901        4.0   Automatic       Front      4   \n",
       "\n",
       "              Wheel   Color  Airbags  Age  \n",
       "0        Left wheel  Silver       12   13  \n",
       "1        Left wheel   Black        8   12  \n",
       "2  Right-hand drive   Black        2   17  \n",
       "3        Left wheel   White        0   12  \n",
       "4        Left wheel  Silver        4    9  "
      ]
     },
     "execution_count": 174,
     "metadata": {},
     "output_type": "execute_result"
    }
   ],
   "source": [
    "cars.head()"
   ]
  },
  {
   "cell_type": "markdown",
   "id": "6b7ce0a4",
   "metadata": {},
   "source": [
    "**COMMENT :-**  here many columns are categorical data type that need to convert into numeric for interpretation use."
   ]
  },
  {
   "cell_type": "markdown",
   "id": "4b1a56a0",
   "metadata": {},
   "source": [
    "### Transform categorical data in numeric \n",
    "    Categorical data columns\n",
    "      - Manufacturer\n",
    "      - Model\n",
    "      - Category\n",
    "      - year\n",
    "      - Leatherint\n",
    "      - FuelType\n",
    "      - GearBoxType\n",
    "      - DriveWheels\n",
    "      - Doors\n",
    "      - Wheel\n",
    "      - Color\n",
    "     \n",
    "    Numerical data columns\n",
    "      - ID\n",
    "      - Price\n",
    "      - Levy\n",
    "      - EngineVolume\n",
    "      - Mileage\n",
    "      - Cylinders\n",
    "      - Airbags\n",
    "      - Age"
   ]
  },
  {
   "cell_type": "markdown",
   "id": "5d52b480",
   "metadata": {},
   "source": [
    "### Using LabelEncoder try to convert categortcal data into numeric data "
   ]
  },
  {
   "cell_type": "code",
   "execution_count": 175,
   "id": "a83153a9",
   "metadata": {},
   "outputs": [
    {
     "name": "stdout",
     "output_type": "stream",
     "text": [
      "Index(['Price', 'Levy', 'Manufacturer', 'Model', 'year', 'Category',\n",
      "       'LeatherInt', 'FuelType', 'EngineVolume', 'Mileage', 'Cylinders',\n",
      "       'GearBoxType', 'DriveWheels', 'Doors', 'Wheel', 'Color', 'Airbags',\n",
      "       'Age'],\n",
      "      dtype='object')\n"
     ]
    },
    {
     "data": {
      "text/plain": [
       "'int64'"
      ]
     },
     "execution_count": 175,
     "metadata": {},
     "output_type": "execute_result"
    }
   ],
   "source": [
    "print(cars.columns)\n",
    "cars['Price'].dtype.name"
   ]
  },
  {
   "cell_type": "code",
   "execution_count": 176,
   "id": "c3ec82b7",
   "metadata": {},
   "outputs": [
    {
     "name": "stdout",
     "output_type": "stream",
     "text": [
      "Numerical data are :  ['Price', 'Levy', 'year', 'EngineVolume', 'Mileage', 'Cylinders', 'Doors', 'Airbags', 'Age']\n",
      "Categorical data are :  ['Manufacturer', 'Model', 'Category', 'LeatherInt', 'FuelType', 'GearBoxType', 'DriveWheels', 'Wheel', 'Color']\n"
     ]
    }
   ],
   "source": [
    "categorical_data = []\n",
    "numerical_data = []\n",
    "for i in cars.columns:\n",
    "    if cars[i].dtype.name == 'object' :\n",
    "        categorical_data.append(i)\n",
    "    else:\n",
    "        numerical_data.append(i)\n",
    "        \n",
    "print('Numerical data are : ', numerical_data)\n",
    "print('Categorical data are : ', categorical_data)"
   ]
  },
  {
   "cell_type": "code",
   "execution_count": 177,
   "id": "7f07f4a8",
   "metadata": {},
   "outputs": [],
   "source": [
    "LE = LabelEncoder()"
   ]
  },
  {
   "cell_type": "code",
   "execution_count": 178,
   "id": "f5eaea5f",
   "metadata": {},
   "outputs": [],
   "source": [
    "for i in categorical_data:\n",
    "    cars[i] = LE.fit_transform(cars[i])"
   ]
  },
  {
   "cell_type": "code",
   "execution_count": 179,
   "id": "de48dafa",
   "metadata": {},
   "outputs": [
    {
     "data": {
      "text/html": [
       "<div>\n",
       "<style scoped>\n",
       "    .dataframe tbody tr th:only-of-type {\n",
       "        vertical-align: middle;\n",
       "    }\n",
       "\n",
       "    .dataframe tbody tr th {\n",
       "        vertical-align: top;\n",
       "    }\n",
       "\n",
       "    .dataframe thead th {\n",
       "        text-align: right;\n",
       "    }\n",
       "</style>\n",
       "<table border=\"1\" class=\"dataframe\">\n",
       "  <thead>\n",
       "    <tr style=\"text-align: right;\">\n",
       "      <th></th>\n",
       "      <th>Price</th>\n",
       "      <th>Levy</th>\n",
       "      <th>Manufacturer</th>\n",
       "      <th>Model</th>\n",
       "      <th>year</th>\n",
       "      <th>Category</th>\n",
       "      <th>LeatherInt</th>\n",
       "      <th>FuelType</th>\n",
       "      <th>EngineVolume</th>\n",
       "      <th>Mileage</th>\n",
       "      <th>Cylinders</th>\n",
       "      <th>GearBoxType</th>\n",
       "      <th>DriveWheels</th>\n",
       "      <th>Doors</th>\n",
       "      <th>Wheel</th>\n",
       "      <th>Color</th>\n",
       "      <th>Airbags</th>\n",
       "      <th>Age</th>\n",
       "    </tr>\n",
       "  </thead>\n",
       "  <tbody>\n",
       "    <tr>\n",
       "      <th>0</th>\n",
       "      <td>13328</td>\n",
       "      <td>1399.0</td>\n",
       "      <td>28</td>\n",
       "      <td>1104</td>\n",
       "      <td>2010</td>\n",
       "      <td>4</td>\n",
       "      <td>1</td>\n",
       "      <td>2</td>\n",
       "      <td>3.5</td>\n",
       "      <td>186005</td>\n",
       "      <td>6.0</td>\n",
       "      <td>0</td>\n",
       "      <td>0</td>\n",
       "      <td>4</td>\n",
       "      <td>0</td>\n",
       "      <td>12</td>\n",
       "      <td>12</td>\n",
       "      <td>13</td>\n",
       "    </tr>\n",
       "    <tr>\n",
       "      <th>1</th>\n",
       "      <td>16621</td>\n",
       "      <td>1018.0</td>\n",
       "      <td>7</td>\n",
       "      <td>589</td>\n",
       "      <td>2011</td>\n",
       "      <td>4</td>\n",
       "      <td>0</td>\n",
       "      <td>5</td>\n",
       "      <td>3.0</td>\n",
       "      <td>192000</td>\n",
       "      <td>6.0</td>\n",
       "      <td>2</td>\n",
       "      <td>0</td>\n",
       "      <td>4</td>\n",
       "      <td>0</td>\n",
       "      <td>1</td>\n",
       "      <td>8</td>\n",
       "      <td>12</td>\n",
       "    </tr>\n",
       "    <tr>\n",
       "      <th>2</th>\n",
       "      <td>8467</td>\n",
       "      <td>1018.0</td>\n",
       "      <td>18</td>\n",
       "      <td>611</td>\n",
       "      <td>2006</td>\n",
       "      <td>3</td>\n",
       "      <td>0</td>\n",
       "      <td>5</td>\n",
       "      <td>1.3</td>\n",
       "      <td>200000</td>\n",
       "      <td>4.0</td>\n",
       "      <td>3</td>\n",
       "      <td>1</td>\n",
       "      <td>4</td>\n",
       "      <td>1</td>\n",
       "      <td>1</td>\n",
       "      <td>2</td>\n",
       "      <td>17</td>\n",
       "    </tr>\n",
       "    <tr>\n",
       "      <th>3</th>\n",
       "      <td>3607</td>\n",
       "      <td>862.0</td>\n",
       "      <td>14</td>\n",
       "      <td>592</td>\n",
       "      <td>2011</td>\n",
       "      <td>4</td>\n",
       "      <td>1</td>\n",
       "      <td>2</td>\n",
       "      <td>2.5</td>\n",
       "      <td>168966</td>\n",
       "      <td>4.0</td>\n",
       "      <td>0</td>\n",
       "      <td>0</td>\n",
       "      <td>4</td>\n",
       "      <td>0</td>\n",
       "      <td>14</td>\n",
       "      <td>0</td>\n",
       "      <td>12</td>\n",
       "    </tr>\n",
       "    <tr>\n",
       "      <th>4</th>\n",
       "      <td>11726</td>\n",
       "      <td>446.0</td>\n",
       "      <td>18</td>\n",
       "      <td>611</td>\n",
       "      <td>2014</td>\n",
       "      <td>3</td>\n",
       "      <td>1</td>\n",
       "      <td>5</td>\n",
       "      <td>1.3</td>\n",
       "      <td>91901</td>\n",
       "      <td>4.0</td>\n",
       "      <td>0</td>\n",
       "      <td>1</td>\n",
       "      <td>4</td>\n",
       "      <td>0</td>\n",
       "      <td>12</td>\n",
       "      <td>4</td>\n",
       "      <td>9</td>\n",
       "    </tr>\n",
       "  </tbody>\n",
       "</table>\n",
       "</div>"
      ],
      "text/plain": [
       "   Price    Levy  Manufacturer  Model  year  Category  LeatherInt  FuelType  \\\n",
       "0  13328  1399.0            28   1104  2010         4           1         2   \n",
       "1  16621  1018.0             7    589  2011         4           0         5   \n",
       "2   8467  1018.0            18    611  2006         3           0         5   \n",
       "3   3607   862.0            14    592  2011         4           1         2   \n",
       "4  11726   446.0            18    611  2014         3           1         5   \n",
       "\n",
       "   EngineVolume  Mileage  Cylinders  GearBoxType  DriveWheels  Doors  Wheel  \\\n",
       "0           3.5   186005        6.0            0            0      4      0   \n",
       "1           3.0   192000        6.0            2            0      4      0   \n",
       "2           1.3   200000        4.0            3            1      4      1   \n",
       "3           2.5   168966        4.0            0            0      4      0   \n",
       "4           1.3    91901        4.0            0            1      4      0   \n",
       "\n",
       "   Color  Airbags  Age  \n",
       "0     12       12   13  \n",
       "1      1        8   12  \n",
       "2      1        2   17  \n",
       "3     14        0   12  \n",
       "4     12        4    9  "
      ]
     },
     "execution_count": 179,
     "metadata": {},
     "output_type": "execute_result"
    }
   ],
   "source": [
    "cars.head()"
   ]
  },
  {
   "cell_type": "code",
   "execution_count": null,
   "id": "18306867",
   "metadata": {},
   "outputs": [],
   "source": []
  },
  {
   "cell_type": "markdown",
   "id": "a6028d21",
   "metadata": {},
   "source": [
    "### ------------------------------------------------------ LINEAR REGRESSION ---------------------------------------------------------------"
   ]
  },
  {
   "cell_type": "code",
   "execution_count": 180,
   "id": "1ba26d2a",
   "metadata": {},
   "outputs": [],
   "source": [
    "x = cars.drop(columns = ['Price'], axis = 1)\n",
    "# ID has almost same no of unique value so that will not be that much helpfull to interpretation, it's better to remove it\n",
    "y = cars[['Price']]"
   ]
  },
  {
   "cell_type": "markdown",
   "id": "82496759",
   "metadata": {},
   "source": [
    "###  Scaling the Data\n",
    "  *  Since the data in conditions has data points far from each other, scaling is a technique to make them closer to each other. It help to find optimal value for coefficients."
   ]
  },
  {
   "cell_type": "code",
   "execution_count": 181,
   "id": "ffa77367",
   "metadata": {},
   "outputs": [
    {
     "name": "stdout",
     "output_type": "stream",
     "text": [
      "no of columns:  17\n"
     ]
    },
    {
     "data": {
      "text/html": [
       "<div>\n",
       "<style scoped>\n",
       "    .dataframe tbody tr th:only-of-type {\n",
       "        vertical-align: middle;\n",
       "    }\n",
       "\n",
       "    .dataframe tbody tr th {\n",
       "        vertical-align: top;\n",
       "    }\n",
       "\n",
       "    .dataframe thead th {\n",
       "        text-align: right;\n",
       "    }\n",
       "</style>\n",
       "<table border=\"1\" class=\"dataframe\">\n",
       "  <thead>\n",
       "    <tr style=\"text-align: right;\">\n",
       "      <th></th>\n",
       "      <th>Levy</th>\n",
       "      <th>Manufacturer</th>\n",
       "      <th>Model</th>\n",
       "      <th>year</th>\n",
       "      <th>Category</th>\n",
       "      <th>LeatherInt</th>\n",
       "      <th>FuelType</th>\n",
       "      <th>EngineVolume</th>\n",
       "      <th>Mileage</th>\n",
       "      <th>Cylinders</th>\n",
       "      <th>GearBoxType</th>\n",
       "      <th>DriveWheels</th>\n",
       "      <th>Doors</th>\n",
       "      <th>Wheel</th>\n",
       "      <th>Color</th>\n",
       "      <th>Airbags</th>\n",
       "      <th>Age</th>\n",
       "    </tr>\n",
       "  </thead>\n",
       "  <tbody>\n",
       "    <tr>\n",
       "      <th>0</th>\n",
       "      <td>1399.0</td>\n",
       "      <td>28</td>\n",
       "      <td>1104</td>\n",
       "      <td>2010</td>\n",
       "      <td>4</td>\n",
       "      <td>1</td>\n",
       "      <td>2</td>\n",
       "      <td>3.5</td>\n",
       "      <td>186005</td>\n",
       "      <td>6.0</td>\n",
       "      <td>0</td>\n",
       "      <td>0</td>\n",
       "      <td>4</td>\n",
       "      <td>0</td>\n",
       "      <td>12</td>\n",
       "      <td>12</td>\n",
       "      <td>13</td>\n",
       "    </tr>\n",
       "    <tr>\n",
       "      <th>1</th>\n",
       "      <td>1018.0</td>\n",
       "      <td>7</td>\n",
       "      <td>589</td>\n",
       "      <td>2011</td>\n",
       "      <td>4</td>\n",
       "      <td>0</td>\n",
       "      <td>5</td>\n",
       "      <td>3.0</td>\n",
       "      <td>192000</td>\n",
       "      <td>6.0</td>\n",
       "      <td>2</td>\n",
       "      <td>0</td>\n",
       "      <td>4</td>\n",
       "      <td>0</td>\n",
       "      <td>1</td>\n",
       "      <td>8</td>\n",
       "      <td>12</td>\n",
       "    </tr>\n",
       "    <tr>\n",
       "      <th>2</th>\n",
       "      <td>1018.0</td>\n",
       "      <td>18</td>\n",
       "      <td>611</td>\n",
       "      <td>2006</td>\n",
       "      <td>3</td>\n",
       "      <td>0</td>\n",
       "      <td>5</td>\n",
       "      <td>1.3</td>\n",
       "      <td>200000</td>\n",
       "      <td>4.0</td>\n",
       "      <td>3</td>\n",
       "      <td>1</td>\n",
       "      <td>4</td>\n",
       "      <td>1</td>\n",
       "      <td>1</td>\n",
       "      <td>2</td>\n",
       "      <td>17</td>\n",
       "    </tr>\n",
       "    <tr>\n",
       "      <th>3</th>\n",
       "      <td>862.0</td>\n",
       "      <td>14</td>\n",
       "      <td>592</td>\n",
       "      <td>2011</td>\n",
       "      <td>4</td>\n",
       "      <td>1</td>\n",
       "      <td>2</td>\n",
       "      <td>2.5</td>\n",
       "      <td>168966</td>\n",
       "      <td>4.0</td>\n",
       "      <td>0</td>\n",
       "      <td>0</td>\n",
       "      <td>4</td>\n",
       "      <td>0</td>\n",
       "      <td>14</td>\n",
       "      <td>0</td>\n",
       "      <td>12</td>\n",
       "    </tr>\n",
       "    <tr>\n",
       "      <th>4</th>\n",
       "      <td>446.0</td>\n",
       "      <td>18</td>\n",
       "      <td>611</td>\n",
       "      <td>2014</td>\n",
       "      <td>3</td>\n",
       "      <td>1</td>\n",
       "      <td>5</td>\n",
       "      <td>1.3</td>\n",
       "      <td>91901</td>\n",
       "      <td>4.0</td>\n",
       "      <td>0</td>\n",
       "      <td>1</td>\n",
       "      <td>4</td>\n",
       "      <td>0</td>\n",
       "      <td>12</td>\n",
       "      <td>4</td>\n",
       "      <td>9</td>\n",
       "    </tr>\n",
       "  </tbody>\n",
       "</table>\n",
       "</div>"
      ],
      "text/plain": [
       "     Levy  Manufacturer  Model  year  Category  LeatherInt  FuelType  \\\n",
       "0  1399.0            28   1104  2010         4           1         2   \n",
       "1  1018.0             7    589  2011         4           0         5   \n",
       "2  1018.0            18    611  2006         3           0         5   \n",
       "3   862.0            14    592  2011         4           1         2   \n",
       "4   446.0            18    611  2014         3           1         5   \n",
       "\n",
       "   EngineVolume  Mileage  Cylinders  GearBoxType  DriveWheels  Doors  Wheel  \\\n",
       "0           3.5   186005        6.0            0            0      4      0   \n",
       "1           3.0   192000        6.0            2            0      4      0   \n",
       "2           1.3   200000        4.0            3            1      4      1   \n",
       "3           2.5   168966        4.0            0            0      4      0   \n",
       "4           1.3    91901        4.0            0            1      4      0   \n",
       "\n",
       "   Color  Airbags  Age  \n",
       "0     12       12   13  \n",
       "1      1        8   12  \n",
       "2      1        2   17  \n",
       "3     14        0   12  \n",
       "4     12        4    9  "
      ]
     },
     "execution_count": 181,
     "metadata": {},
     "output_type": "execute_result"
    }
   ],
   "source": [
    "print('no of columns: ', len(x.columns))\n",
    "x.head()"
   ]
  },
  {
   "cell_type": "code",
   "execution_count": 182,
   "id": "cd96c9ba",
   "metadata": {},
   "outputs": [],
   "source": [
    "# Here we Standardization in Scaling the data\n",
    "\n",
    "\n",
    "# Initialise the Scaler\n",
    "scaler = StandardScaler()"
   ]
  },
  {
   "cell_type": "code",
   "execution_count": 183,
   "id": "78dfce66",
   "metadata": {},
   "outputs": [],
   "source": [
    "scaled_x = scaler.fit_transform(x)"
   ]
  },
  {
   "cell_type": "markdown",
   "id": "c72c9c68",
   "metadata": {},
   "source": [
    "###  Model Building and Evaluation "
   ]
  },
  {
   "cell_type": "markdown",
   "id": "6fd68345",
   "metadata": {},
   "source": [
    "### Using StatsModels Package "
   ]
  },
  {
   "cell_type": "code",
   "execution_count": 184,
   "id": "c4d9fd27",
   "metadata": {},
   "outputs": [],
   "source": [
    "import statsmodels.api as sm"
   ]
  },
  {
   "cell_type": "code",
   "execution_count": 185,
   "id": "f2dda5c8",
   "metadata": {},
   "outputs": [
    {
     "data": {
      "text/plain": [
       "array([[ 2.05646385, -0.0861978 ,  0.92351989, ...,  0.77575351,\n",
       "         1.40454722,  0.13178386],\n",
       "       [ 0.68618195, -1.35601696, -0.47886396, ..., -1.29181234,\n",
       "         0.41589536, -0.04468006],\n",
       "       [ 0.68618195, -0.69087359, -0.4189563 , ..., -1.29181234,\n",
       "        -1.06708242,  0.83763954],\n",
       "       ...,\n",
       "       [ 0.0136289 , -0.56993843,  1.11958132, ...,  0.58779298,\n",
       "         0.41589536, -0.04468006],\n",
       "       [ 0.0316116 , -0.56993843,  1.37282734, ..., -0.16404915,\n",
       "        -0.57275649,  0.13178386],\n",
       "       [ 1.65724786, -1.35601696, -0.96901754, ..., -1.29181234,\n",
       "        -0.57275649,  0.66117562]])"
      ]
     },
     "execution_count": 185,
     "metadata": {},
     "output_type": "execute_result"
    }
   ],
   "source": [
    "scaled_x"
   ]
  },
  {
   "cell_type": "code",
   "execution_count": 186,
   "id": "39a44f55",
   "metadata": {},
   "outputs": [],
   "source": [
    "scaled_x = sm.add_constant(scaled_x)"
   ]
  },
  {
   "cell_type": "code",
   "execution_count": 187,
   "id": "683fc780",
   "metadata": {},
   "outputs": [],
   "source": [
    "from sklearn.model_selection import train_test_split"
   ]
  },
  {
   "cell_type": "markdown",
   "id": "aa1b1493",
   "metadata": {},
   "source": [
    "### Train test split"
   ]
  },
  {
   "cell_type": "code",
   "execution_count": 188,
   "id": "870ab082",
   "metadata": {},
   "outputs": [],
   "source": [
    "x_train, x_test, y_train, y_test = train_test_split(scaled_x, y, test_size = 0.20, random_state = 120)"
   ]
  },
  {
   "cell_type": "code",
   "execution_count": 189,
   "id": "628b17b8",
   "metadata": {},
   "outputs": [],
   "source": [
    "mod = sm.OLS(y_train,x_train).fit()"
   ]
  },
  {
   "cell_type": "code",
   "execution_count": 190,
   "id": "1334b022",
   "metadata": {
    "scrolled": false
   },
   "outputs": [
    {
     "name": "stdout",
     "output_type": "stream",
     "text": [
      "                            OLS Regression Results                            \n",
      "==============================================================================\n",
      "Dep. Variable:                  Price   R-squared:                       0.271\n",
      "Model:                            OLS   Adj. R-squared:                  0.270\n",
      "Method:                 Least Squares   F-statistic:                     286.3\n",
      "Date:                Sat, 07 Jan 2023   Prob (F-statistic):               0.00\n",
      "Time:                        14:44:37   Log-Likelihood:            -1.3267e+05\n",
      "No. Observations:               12325   AIC:                         2.654e+05\n",
      "Df Residuals:                   12308   BIC:                         2.655e+05\n",
      "Df Model:                          16                                         \n",
      "Covariance Type:            nonrobust                                         \n",
      "==============================================================================\n",
      "                 coef    std err          t      P>|t|      [0.025      0.975]\n",
      "------------------------------------------------------------------------------\n",
      "const       1.807e+04    103.165    175.156      0.000    1.79e+04    1.83e+04\n",
      "x1           595.8952    113.219      5.263      0.000     373.969     817.822\n",
      "x2             9.1892    109.500      0.084      0.933    -205.449     223.827\n",
      "x3           275.3629    109.354      2.518      0.012      61.013     489.713\n",
      "x4          3181.0110     62.496     50.900      0.000    3058.509    3303.512\n",
      "x5         -1800.3067    114.860    -15.674      0.000   -2025.450   -1575.163\n",
      "x6           430.5490    125.856      3.421      0.001     183.851     677.247\n",
      "x7          -927.1759    109.726     -8.450      0.000   -1142.256    -712.096\n",
      "x8          2727.3814    172.948     15.770      0.000    2388.377    3066.386\n",
      "x9           110.5939     94.235      1.174      0.241     -74.122     295.310\n",
      "x10         -127.5954    158.453     -0.805      0.421    -438.189     182.998\n",
      "x11         2527.3323    113.100     22.346      0.000    2305.639    2749.026\n",
      "x12          690.2716    114.477      6.030      0.000     465.879     914.665\n",
      "x13          318.4406    111.117      2.866      0.004     100.634     536.247\n",
      "x14        -1315.5195    114.587    -11.481      0.000   -1540.127   -1090.912\n",
      "x15         -337.4080    105.086     -3.211      0.001    -543.394    -131.423\n",
      "x16        -2647.2346    118.044    -22.426      0.000   -2878.620   -2415.850\n",
      "x17        -3181.0110     62.496    -50.900      0.000   -3303.512   -3058.509\n",
      "==============================================================================\n",
      "Omnibus:                     1734.091   Durbin-Watson:                   1.969\n",
      "Prob(Omnibus):                  0.000   Jarque-Bera (JB):             3550.353\n",
      "Skew:                           0.865   Prob(JB):                         0.00\n",
      "Kurtosis:                       4.980   Cond. No.                     1.10e+16\n",
      "==============================================================================\n",
      "\n",
      "Notes:\n",
      "[1] Standard Errors assume that the covariance matrix of the errors is correctly specified.\n",
      "[2] The smallest eigenvalue is 2.77e-28. This might indicate that there are\n",
      "strong multicollinearity problems or that the design matrix is singular.\n"
     ]
    }
   ],
   "source": [
    "print(mod.summary())"
   ]
  },
  {
   "cell_type": "markdown",
   "id": "ea585b2e",
   "metadata": {},
   "source": [
    "<pre>\n",
    "The features whose p value is greater than 0.05 are eleminated, as there is no significance in their coefficients along with the features cause multi collinearity\n",
    "</pre>"
   ]
  },
  {
   "cell_type": "markdown",
   "id": "a1a5a1e4",
   "metadata": {},
   "source": [
    "<pre>\n",
    "so we can remove columns Manufacturer, Mileage,Cylinders\n",
    "</pre>"
   ]
  },
  {
   "cell_type": "code",
   "execution_count": 194,
   "id": "c8861649",
   "metadata": {},
   "outputs": [],
   "source": [
    "x = sm.add_constant(x.drop(['Manufacturer','Mileage','Cylinders'],axis = 1))\n",
    "y = cars[\"Price\"]\n"
   ]
  },
  {
   "cell_type": "code",
   "execution_count": 195,
   "id": "a8cc358c",
   "metadata": {},
   "outputs": [
    {
     "name": "stdout",
     "output_type": "stream",
     "text": [
      "                            OLS Regression Results                            \n",
      "==============================================================================\n",
      "Dep. Variable:                  Price   R-squared:                       0.269\n",
      "Model:                            OLS   Adj. R-squared:                  0.268\n",
      "Method:                 Least Squares   F-statistic:                     304.6\n",
      "Date:                Sat, 07 Jan 2023   Prob (F-statistic):               0.00\n",
      "Time:                        14:47:51   Log-Likelihood:            -1.1609e+05\n",
      "No. Observations:               10784   AIC:                         2.322e+05\n",
      "Df Residuals:                   10770   BIC:                         2.323e+05\n",
      "Df Model:                          13                                         \n",
      "Covariance Type:            nonrobust                                         \n",
      "================================================================================\n",
      "                   coef    std err          t      P>|t|      [0.025      0.975]\n",
      "--------------------------------------------------------------------------------\n",
      "const           -0.5301      0.011    -46.954      0.000      -0.552      -0.508\n",
      "Levy             2.1414      0.435      4.919      0.000       1.288       2.995\n",
      "Model            0.7838      0.319      2.459      0.014       0.159       1.409\n",
      "year            12.3093      0.683     18.025      0.000      10.971      13.648\n",
      "Category      -637.9878     43.500    -14.666      0.000    -723.257    -552.719\n",
      "LeatherInt    1013.3196    288.371      3.514      0.000     448.058    1578.581\n",
      "FuelType      -510.5142     63.569     -8.031      0.000    -635.121    -385.907\n",
      "EngineVolume  3648.3917    186.301     19.583      0.000    3283.207    4013.576\n",
      "GearBoxType   2753.0163    130.224     21.141      0.000    2497.752    3008.280\n",
      "DriveWheels   1200.3068    228.093      5.262      0.000     753.202    1647.412\n",
      "Doors          862.6018    283.623      3.041      0.002     306.649    1418.555\n",
      "Wheel        -4805.9411    451.806    -10.637      0.000   -5691.564   -3920.319\n",
      "Color          -60.1669     21.109     -2.850      0.004    -101.545     -18.789\n",
      "Airbags       -638.6100     30.399    -21.008      0.000    -698.197    -579.023\n",
      "Age          -1084.7325     23.049    -47.061      0.000   -1129.914   -1039.551\n",
      "==============================================================================\n",
      "Omnibus:                     1525.241   Durbin-Watson:                   1.972\n",
      "Prob(Omnibus):                  0.000   Jarque-Bera (JB):             3146.003\n",
      "Skew:                           0.866   Prob(JB):                         0.00\n",
      "Kurtosis:                       5.001   Cond. No.                     4.62e+18\n",
      "==============================================================================\n",
      "\n",
      "Notes:\n",
      "[1] Standard Errors assume that the covariance matrix of the errors is correctly specified.\n",
      "[2] The smallest eigenvalue is 2.7e-27. This might indicate that there are\n",
      "strong multicollinearity problems or that the design matrix is singular.\n"
     ]
    }
   ],
   "source": [
    "x_train,x_test,y_train,y_test = train_test_split(x,y,test_size = 0.3,random_state = 120)\n",
    "mod = sm.OLS(y_train,x_train).fit()\n",
    "print(mod.summary())"
   ]
  },
  {
   "cell_type": "markdown",
   "id": "21514947",
   "metadata": {},
   "source": [
    "**COMMENT:-** Here R-squared value is low so we try to remove first outlier from each columns"
   ]
  },
  {
   "cell_type": "code",
   "execution_count": 196,
   "id": "44ae2a32",
   "metadata": {},
   "outputs": [
    {
     "data": {
      "text/html": [
       "<div>\n",
       "<style scoped>\n",
       "    .dataframe tbody tr th:only-of-type {\n",
       "        vertical-align: middle;\n",
       "    }\n",
       "\n",
       "    .dataframe tbody tr th {\n",
       "        vertical-align: top;\n",
       "    }\n",
       "\n",
       "    .dataframe thead th {\n",
       "        text-align: right;\n",
       "    }\n",
       "</style>\n",
       "<table border=\"1\" class=\"dataframe\">\n",
       "  <thead>\n",
       "    <tr style=\"text-align: right;\">\n",
       "      <th></th>\n",
       "      <th>const</th>\n",
       "      <th>Levy</th>\n",
       "      <th>Model</th>\n",
       "      <th>year</th>\n",
       "      <th>Category</th>\n",
       "      <th>LeatherInt</th>\n",
       "      <th>FuelType</th>\n",
       "      <th>EngineVolume</th>\n",
       "      <th>GearBoxType</th>\n",
       "      <th>DriveWheels</th>\n",
       "      <th>Doors</th>\n",
       "      <th>Wheel</th>\n",
       "      <th>Color</th>\n",
       "      <th>Airbags</th>\n",
       "      <th>Age</th>\n",
       "    </tr>\n",
       "  </thead>\n",
       "  <tbody>\n",
       "    <tr>\n",
       "      <th>0</th>\n",
       "      <td>1.0</td>\n",
       "      <td>1399.0</td>\n",
       "      <td>1104</td>\n",
       "      <td>2010</td>\n",
       "      <td>4</td>\n",
       "      <td>1</td>\n",
       "      <td>2</td>\n",
       "      <td>3.5</td>\n",
       "      <td>0</td>\n",
       "      <td>0</td>\n",
       "      <td>4</td>\n",
       "      <td>0</td>\n",
       "      <td>12</td>\n",
       "      <td>12</td>\n",
       "      <td>13</td>\n",
       "    </tr>\n",
       "    <tr>\n",
       "      <th>1</th>\n",
       "      <td>1.0</td>\n",
       "      <td>1018.0</td>\n",
       "      <td>589</td>\n",
       "      <td>2011</td>\n",
       "      <td>4</td>\n",
       "      <td>0</td>\n",
       "      <td>5</td>\n",
       "      <td>3.0</td>\n",
       "      <td>2</td>\n",
       "      <td>0</td>\n",
       "      <td>4</td>\n",
       "      <td>0</td>\n",
       "      <td>1</td>\n",
       "      <td>8</td>\n",
       "      <td>12</td>\n",
       "    </tr>\n",
       "    <tr>\n",
       "      <th>2</th>\n",
       "      <td>1.0</td>\n",
       "      <td>1018.0</td>\n",
       "      <td>611</td>\n",
       "      <td>2006</td>\n",
       "      <td>3</td>\n",
       "      <td>0</td>\n",
       "      <td>5</td>\n",
       "      <td>1.3</td>\n",
       "      <td>3</td>\n",
       "      <td>1</td>\n",
       "      <td>4</td>\n",
       "      <td>1</td>\n",
       "      <td>1</td>\n",
       "      <td>2</td>\n",
       "      <td>17</td>\n",
       "    </tr>\n",
       "    <tr>\n",
       "      <th>3</th>\n",
       "      <td>1.0</td>\n",
       "      <td>862.0</td>\n",
       "      <td>592</td>\n",
       "      <td>2011</td>\n",
       "      <td>4</td>\n",
       "      <td>1</td>\n",
       "      <td>2</td>\n",
       "      <td>2.5</td>\n",
       "      <td>0</td>\n",
       "      <td>0</td>\n",
       "      <td>4</td>\n",
       "      <td>0</td>\n",
       "      <td>14</td>\n",
       "      <td>0</td>\n",
       "      <td>12</td>\n",
       "    </tr>\n",
       "    <tr>\n",
       "      <th>4</th>\n",
       "      <td>1.0</td>\n",
       "      <td>446.0</td>\n",
       "      <td>611</td>\n",
       "      <td>2014</td>\n",
       "      <td>3</td>\n",
       "      <td>1</td>\n",
       "      <td>5</td>\n",
       "      <td>1.3</td>\n",
       "      <td>0</td>\n",
       "      <td>1</td>\n",
       "      <td>4</td>\n",
       "      <td>0</td>\n",
       "      <td>12</td>\n",
       "      <td>4</td>\n",
       "      <td>9</td>\n",
       "    </tr>\n",
       "  </tbody>\n",
       "</table>\n",
       "</div>"
      ],
      "text/plain": [
       "   const    Levy  Model  year  Category  LeatherInt  FuelType  EngineVolume  \\\n",
       "0    1.0  1399.0   1104  2010         4           1         2           3.5   \n",
       "1    1.0  1018.0    589  2011         4           0         5           3.0   \n",
       "2    1.0  1018.0    611  2006         3           0         5           1.3   \n",
       "3    1.0   862.0    592  2011         4           1         2           2.5   \n",
       "4    1.0   446.0    611  2014         3           1         5           1.3   \n",
       "\n",
       "   GearBoxType  DriveWheels  Doors  Wheel  Color  Airbags  Age  \n",
       "0            0            0      4      0     12       12   13  \n",
       "1            2            0      4      0      1        8   12  \n",
       "2            3            1      4      1      1        2   17  \n",
       "3            0            0      4      0     14        0   12  \n",
       "4            0            1      4      0     12        4    9  "
      ]
     },
     "execution_count": 196,
     "metadata": {},
     "output_type": "execute_result"
    }
   ],
   "source": [
    "x.head()"
   ]
  },
  {
   "cell_type": "code",
   "execution_count": 197,
   "id": "1aad6d85",
   "metadata": {},
   "outputs": [
    {
     "data": {
      "text/plain": [
       "Index(['const', 'Levy', 'Model', 'year', 'Category', 'LeatherInt', 'FuelType',\n",
       "       'EngineVolume', 'GearBoxType', 'DriveWheels', 'Doors', 'Wheel', 'Color',\n",
       "       'Airbags', 'Age'],\n",
       "      dtype='object')"
      ]
     },
     "execution_count": 197,
     "metadata": {},
     "output_type": "execute_result"
    }
   ],
   "source": [
    "len(x.columns)\n",
    "x.columns"
   ]
  },
  {
   "cell_type": "code",
   "execution_count": 198,
   "id": "7e8a9826",
   "metadata": {},
   "outputs": [
    {
     "name": "stdout",
     "output_type": "stream",
     "text": [
      "['Price', 'Levy', 'year', 'EngineVolume', 'Mileage', 'Cylinders', 'Doors', 'Airbags', 'Age']\n"
     ]
    }
   ],
   "source": [
    "print(numerical_data)\n"
   ]
  },
  {
   "cell_type": "code",
   "execution_count": 199,
   "id": "2ba8e0c3",
   "metadata": {
    "scrolled": false
   },
   "outputs": [
    {
     "name": "stdout",
     "output_type": "stream",
     "text": [
      "boxplot of the variable Levy\n"
     ]
    },
    {
     "data": {
      "image/png": "[encoded data removed]",
      "text/plain": [
       "<Figure size 432x432 with 1 Axes>"
      ]
     },
     "metadata": {
      "needs_background": "light"
     },
     "output_type": "display_data"
    },
    {
     "name": "stdout",
     "output_type": "stream",
     "text": [
      "boxplot of the variable year\n"
     ]
    },
    {
     "data": {
      "image/png": "[encoded data removed]",
      "text/plain": [
       "<Figure size 432x288 with 1 Axes>"
      ]
     },
     "metadata": {
      "needs_background": "light"
     },
     "output_type": "display_data"
    },
    {
     "name": "stdout",
     "output_type": "stream",
     "text": [
      "boxplot of the variable EngineVolume\n"
     ]
    },
    {
     "data": {
      "image/png": "[encoded data removed]",
      "text/plain": [
       "<Figure size 432x288 with 1 Axes>"
      ]
     },
     "metadata": {
      "needs_background": "light"
     },
     "output_type": "display_data"
    },
    {
     "name": "stdout",
     "output_type": "stream",
     "text": [
      "boxplot of the variable Mileage\n"
     ]
    },
    {
     "data": {
      "image/png": "[encoded data removed]",
      "text/plain": [
       "<Figure size 432x288 with 1 Axes>"
      ]
     },
     "metadata": {
      "needs_background": "light"
     },
     "output_type": "display_data"
    },
    {
     "name": "stdout",
     "output_type": "stream",
     "text": [
      "boxplot of the variable Cylinders\n"
     ]
    },
    {
     "data": {
      "image/png": "[encoded data removed]",
      "text/plain": [
       "<Figure size 432x288 with 1 Axes>"
      ]
     },
     "metadata": {
      "needs_background": "light"
     },
     "output_type": "display_data"
    },
    {
     "name": "stdout",
     "output_type": "stream",
     "text": [
      "boxplot of the variable Doors\n"
     ]
    },
    {
     "data": {
      "image/png": "[encoded data removed]",
      "text/plain": [
       "<Figure size 432x288 with 1 Axes>"
      ]
     },
     "metadata": {
      "needs_background": "light"
     },
     "output_type": "display_data"
    },
    {
     "name": "stdout",
     "output_type": "stream",
     "text": [
      "boxplot of the variable Airbags\n"
     ]
    },
    {
     "data": {
      "image/png": "[encoded data removed]",
      "text/plain": [
       "<Figure size 432x288 with 1 Axes>"
      ]
     },
     "metadata": {
      "needs_background": "light"
     },
     "output_type": "display_data"
    },
    {
     "name": "stdout",
     "output_type": "stream",
     "text": [
      "boxplot of the variable Age\n"
     ]
    },
    {
     "data": {
      "image/png": "[encoded data removed]",
      "text/plain": [
       "<Figure size 432x288 with 1 Axes>"
      ]
     },
     "metadata": {
      "needs_background": "light"
     },
     "output_type": "display_data"
    }
   ],
   "source": [
    "plt.figure(figsize = (6,6))\n",
    "for i in numerical_data:\n",
    "    if i != 'Price':\n",
    "        print(\"boxplot of the variable\",i)\n",
    "        sns.boxplot(cars[i])\n",
    "        plt.show()"
   ]
  },
  {
   "cell_type": "markdown",
   "id": "35558e63",
   "metadata": {},
   "source": [
    "**COMMENT :-** We only Remove outlier which are not in cluster or those Outlier which has rare chance of occurance."
   ]
  },
  {
   "cell_type": "code",
   "execution_count": 200,
   "id": "19be7f3a",
   "metadata": {},
   "outputs": [],
   "source": [
    "cars = cars[cars['year'] > 1980]"
   ]
  },
  {
   "cell_type": "code",
   "execution_count": 201,
   "id": "0697295c",
   "metadata": {},
   "outputs": [],
   "source": [
    "cars = cars[cars['EngineVolume'] < 5]"
   ]
  },
  {
   "cell_type": "code",
   "execution_count": 202,
   "id": "d6af84d2",
   "metadata": {},
   "outputs": [],
   "source": [
    "cars = cars[cars['Cylinders'] < 10]"
   ]
  },
  {
   "cell_type": "code",
   "execution_count": 203,
   "id": "fd0f0a3e",
   "metadata": {},
   "outputs": [],
   "source": [
    "cars= cars[cars['Age'] < 40]"
   ]
  },
  {
   "cell_type": "code",
   "execution_count": null,
   "id": "571c2cde",
   "metadata": {},
   "outputs": [],
   "source": []
  },
  {
   "cell_type": "code",
   "execution_count": 208,
   "id": "7f274574",
   "metadata": {},
   "outputs": [
    {
     "data": {
      "text/plain": [
       "['Price',\n",
       " 'Levy',\n",
       " 'year',\n",
       " 'EngineVolume',\n",
       " 'Mileage',\n",
       " 'Cylinders',\n",
       " 'Doors',\n",
       " 'Airbags',\n",
       " 'Age']"
      ]
     },
     "execution_count": 208,
     "metadata": {},
     "output_type": "execute_result"
    }
   ],
   "source": [
    "numerical_data"
   ]
  },
  {
   "cell_type": "code",
   "execution_count": 209,
   "id": "695e6b8c",
   "metadata": {
    "scrolled": false
   },
   "outputs": [
    {
     "name": "stdout",
     "output_type": "stream",
     "text": [
      "boxplot of the variable Levy\n"
     ]
    },
    {
     "data": {
      "image/png": "[encoded data removed]",
      "text/plain": [
       "<Figure size 432x432 with 1 Axes>"
      ]
     },
     "metadata": {
      "needs_background": "light"
     },
     "output_type": "display_data"
    },
    {
     "name": "stdout",
     "output_type": "stream",
     "text": [
      "boxplot of the variable year\n"
     ]
    },
    {
     "data": {
      "image/png": "[encoded data removed]",
      "text/plain": [
       "<Figure size 432x288 with 1 Axes>"
      ]
     },
     "metadata": {
      "needs_background": "light"
     },
     "output_type": "display_data"
    },
    {
     "name": "stdout",
     "output_type": "stream",
     "text": [
      "boxplot of the variable EngineVolume\n"
     ]
    },
    {
     "data": {
      "image/png": "[encoded data removed]",
      "text/plain": [
       "<Figure size 432x288 with 1 Axes>"
      ]
     },
     "metadata": {
      "needs_background": "light"
     },
     "output_type": "display_data"
    },
    {
     "name": "stdout",
     "output_type": "stream",
     "text": [
      "boxplot of the variable Mileage\n"
     ]
    },
    {
     "data": {
      "image/png": "[encoded data removed]",
      "text/plain": [
       "<Figure size 432x288 with 1 Axes>"
      ]
     },
     "metadata": {
      "needs_background": "light"
     },
     "output_type": "display_data"
    },
    {
     "name": "stdout",
     "output_type": "stream",
     "text": [
      "boxplot of the variable Cylinders\n"
     ]
    },
    {
     "data": {
      "image/png": "[encoded data removed]",
      "text/plain": [
       "<Figure size 432x288 with 1 Axes>"
      ]
     },
     "metadata": {
      "needs_background": "light"
     },
     "output_type": "display_data"
    },
    {
     "name": "stdout",
     "output_type": "stream",
     "text": [
      "boxplot of the variable Doors\n"
     ]
    },
    {
     "data": {
      "image/png": "[encoded data removed]",
      "text/plain": [
       "<Figure size 432x288 with 1 Axes>"
      ]
     },
     "metadata": {
      "needs_background": "light"
     },
     "output_type": "display_data"
    },
    {
     "name": "stdout",
     "output_type": "stream",
     "text": [
      "boxplot of the variable Airbags\n"
     ]
    },
    {
     "data": {
      "image/png": "[encoded data removed]",
      "text/plain": [
       "<Figure size 432x288 with 1 Axes>"
      ]
     },
     "metadata": {
      "needs_background": "light"
     },
     "output_type": "display_data"
    },
    {
     "name": "stdout",
     "output_type": "stream",
     "text": [
      "boxplot of the variable Age\n"
     ]
    },
    {
     "data": {
      "image/png": "[encoded data removed]",
      "text/plain": [
       "<Figure size 432x288 with 1 Axes>"
      ]
     },
     "metadata": {
      "needs_background": "light"
     },
     "output_type": "display_data"
    }
   ],
   "source": [
    "# Boxplot after remove outliers\n",
    "\n",
    "plt.figure(figsize = (6,6))\n",
    "for i in numerical_data:\n",
    "    if (i != 'Price'):\n",
    "        print(\"boxplot of the variable\",i)\n",
    "        sns.boxplot(cars[i])\n",
    "        plt.show()"
   ]
  },
  {
   "cell_type": "code",
   "execution_count": 210,
   "id": "ec3ec133",
   "metadata": {},
   "outputs": [
    {
     "data": {
      "text/plain": [
       "<AxesSubplot:xlabel='Levy'>"
      ]
     },
     "execution_count": 210,
     "metadata": {},
     "output_type": "execute_result"
    },
    {
     "data": {
      "image/png": "[encoded data removed]",
      "text/plain": [
       "<Figure size 432x288 with 1 Axes>"
      ]
     },
     "metadata": {
      "needs_background": "light"
     },
     "output_type": "display_data"
    }
   ],
   "source": [
    "sns.boxplot(cars['Levy'])"
   ]
  },
  {
   "cell_type": "markdown",
   "id": "a66771da",
   "metadata": {},
   "source": [
    "###  Now fit model again "
   ]
  },
  {
   "cell_type": "code",
   "execution_count": 211,
   "id": "7f1b1003",
   "metadata": {},
   "outputs": [],
   "source": [
    "x = cars.drop(columns = ['Price'], axis = 1)\n",
    "\n",
    "y = cars[['Price']]"
   ]
  },
  {
   "cell_type": "code",
   "execution_count": 212,
   "id": "f778e917",
   "metadata": {},
   "outputs": [],
   "source": [
    "scaler = StandardScaler()"
   ]
  },
  {
   "cell_type": "code",
   "execution_count": 213,
   "id": "24d45004",
   "metadata": {},
   "outputs": [],
   "source": [
    "scaled_x = scaler.fit_transform(x)"
   ]
  },
  {
   "cell_type": "code",
   "execution_count": 214,
   "id": "5165a81d",
   "metadata": {},
   "outputs": [],
   "source": [
    "scaled_x = sm.add_constant(scaled_x)"
   ]
  },
  {
   "cell_type": "code",
   "execution_count": 217,
   "id": "171b7c12",
   "metadata": {},
   "outputs": [
    {
     "name": "stdout",
     "output_type": "stream",
     "text": [
      "                            OLS Regression Results                            \n",
      "==============================================================================\n",
      "Dep. Variable:                  Price   R-squared:                       0.290\n",
      "Model:                            OLS   Adj. R-squared:                  0.289\n",
      "Method:                 Least Squares   F-statistic:                     272.1\n",
      "Date:                Sat, 07 Jan 2023   Prob (F-statistic):               0.00\n",
      "Time:                        14:50:05   Log-Likelihood:            -1.1467e+05\n",
      "No. Observations:               10672   AIC:                         2.294e+05\n",
      "Df Residuals:                   10655   BIC:                         2.295e+05\n",
      "Df Model:                          16                                         \n",
      "Covariance Type:            nonrobust                                         \n",
      "==============================================================================\n",
      "                 coef    std err          t      P>|t|      [0.025      0.975]\n",
      "------------------------------------------------------------------------------\n",
      "const         1.8e+04    108.749    165.493      0.000    1.78e+04    1.82e+04\n",
      "x1           665.2379    120.326      5.529      0.000     429.377     901.099\n",
      "x2           -40.8347    116.338     -0.351      0.726    -268.878     187.209\n",
      "x3           257.8117    115.283      2.236      0.025      31.836     483.787\n",
      "x4          3325.7733     66.471     50.033      0.000    3195.478    3456.069\n",
      "x5         -1756.0223    121.414    -14.463      0.000   -1994.017   -1518.028\n",
      "x6           275.8673    132.839      2.077      0.038      15.477     536.257\n",
      "x7         -1030.8487    116.151     -8.875      0.000   -1258.527    -803.171\n",
      "x8          2990.9175    187.948     15.914      0.000    2622.505    3359.330\n",
      "x9            30.0029     91.237      0.329      0.742    -148.838     208.844\n",
      "x10         -482.0745    174.883     -2.757      0.006    -824.877    -139.272\n",
      "x11         2507.2632    118.591     21.142      0.000    2274.803    2739.724\n",
      "x12          784.1195    120.214      6.523      0.000     548.477    1019.762\n",
      "x13          354.9964    116.600      3.045      0.002     126.439     583.554\n",
      "x14        -1215.5881    121.075    -10.040      0.000   -1452.917    -978.259\n",
      "x15         -172.0509    110.719     -1.554      0.120    -389.082      44.980\n",
      "x16        -2781.2588    124.471    -22.345      0.000   -3025.246   -2537.272\n",
      "x17        -3325.7733     66.471    -50.033      0.000   -3456.069   -3195.478\n",
      "==============================================================================\n",
      "Omnibus:                     1053.784   Durbin-Watson:                   1.999\n",
      "Prob(Omnibus):                  0.000   Jarque-Bera (JB):             1681.052\n",
      "Skew:                           0.725   Prob(JB):                         0.00\n",
      "Kurtosis:                       4.296   Cond. No.                     3.17e+15\n",
      "==============================================================================\n",
      "\n",
      "Notes:\n",
      "[1] Standard Errors assume that the covariance matrix of the errors is correctly specified.\n",
      "[2] The smallest eigenvalue is 2.94e-27. This might indicate that there are\n",
      "strong multicollinearity problems or that the design matrix is singular.\n"
     ]
    }
   ],
   "source": [
    "x_train,x_test,y_train,y_test = train_test_split(scaled_x,y,test_size = 0.3,random_state = 120)\n",
    "mod = sm.OLS(y_train,x_train).fit()\n",
    "print(mod.summary())"
   ]
  },
  {
   "cell_type": "markdown",
   "id": "a6605712",
   "metadata": {},
   "source": [
    "**There are some Feature which has P value more than 0.05 so it's better to remove that feature.**"
   ]
  },
  {
   "cell_type": "markdown",
   "id": "49b0aadd",
   "metadata": {},
   "source": [
    "**Remove feature that are not relavant**\n",
    "  - Manufacturer\n",
    "  - Mileage\n",
    "  - color"
   ]
  },
  {
   "cell_type": "code",
   "execution_count": 219,
   "id": "f5212079",
   "metadata": {},
   "outputs": [],
   "source": [
    "x = cars.drop(columns = ['Manufacturer', 'Mileage', 'Color','Price'], axis = 1)\n",
    "y = cars[['Price']]"
   ]
  },
  {
   "cell_type": "code",
   "execution_count": 220,
   "id": "40fd57be",
   "metadata": {},
   "outputs": [
    {
     "data": {
      "text/html": [
       "<div>\n",
       "<style scoped>\n",
       "    .dataframe tbody tr th:only-of-type {\n",
       "        vertical-align: middle;\n",
       "    }\n",
       "\n",
       "    .dataframe tbody tr th {\n",
       "        vertical-align: top;\n",
       "    }\n",
       "\n",
       "    .dataframe thead th {\n",
       "        text-align: right;\n",
       "    }\n",
       "</style>\n",
       "<table border=\"1\" class=\"dataframe\">\n",
       "  <thead>\n",
       "    <tr style=\"text-align: right;\">\n",
       "      <th></th>\n",
       "      <th>Levy</th>\n",
       "      <th>Model</th>\n",
       "      <th>year</th>\n",
       "      <th>Category</th>\n",
       "      <th>LeatherInt</th>\n",
       "      <th>FuelType</th>\n",
       "      <th>EngineVolume</th>\n",
       "      <th>Cylinders</th>\n",
       "      <th>GearBoxType</th>\n",
       "      <th>DriveWheels</th>\n",
       "      <th>Doors</th>\n",
       "      <th>Wheel</th>\n",
       "      <th>Airbags</th>\n",
       "      <th>Age</th>\n",
       "    </tr>\n",
       "  </thead>\n",
       "  <tbody>\n",
       "    <tr>\n",
       "      <th>0</th>\n",
       "      <td>1399.0</td>\n",
       "      <td>1104</td>\n",
       "      <td>2010</td>\n",
       "      <td>4</td>\n",
       "      <td>1</td>\n",
       "      <td>2</td>\n",
       "      <td>3.5</td>\n",
       "      <td>6.0</td>\n",
       "      <td>0</td>\n",
       "      <td>0</td>\n",
       "      <td>4</td>\n",
       "      <td>0</td>\n",
       "      <td>12</td>\n",
       "      <td>13</td>\n",
       "    </tr>\n",
       "    <tr>\n",
       "      <th>1</th>\n",
       "      <td>1018.0</td>\n",
       "      <td>589</td>\n",
       "      <td>2011</td>\n",
       "      <td>4</td>\n",
       "      <td>0</td>\n",
       "      <td>5</td>\n",
       "      <td>3.0</td>\n",
       "      <td>6.0</td>\n",
       "      <td>2</td>\n",
       "      <td>0</td>\n",
       "      <td>4</td>\n",
       "      <td>0</td>\n",
       "      <td>8</td>\n",
       "      <td>12</td>\n",
       "    </tr>\n",
       "    <tr>\n",
       "      <th>2</th>\n",
       "      <td>1018.0</td>\n",
       "      <td>611</td>\n",
       "      <td>2006</td>\n",
       "      <td>3</td>\n",
       "      <td>0</td>\n",
       "      <td>5</td>\n",
       "      <td>1.3</td>\n",
       "      <td>4.0</td>\n",
       "      <td>3</td>\n",
       "      <td>1</td>\n",
       "      <td>4</td>\n",
       "      <td>1</td>\n",
       "      <td>2</td>\n",
       "      <td>17</td>\n",
       "    </tr>\n",
       "    <tr>\n",
       "      <th>3</th>\n",
       "      <td>862.0</td>\n",
       "      <td>592</td>\n",
       "      <td>2011</td>\n",
       "      <td>4</td>\n",
       "      <td>1</td>\n",
       "      <td>2</td>\n",
       "      <td>2.5</td>\n",
       "      <td>4.0</td>\n",
       "      <td>0</td>\n",
       "      <td>0</td>\n",
       "      <td>4</td>\n",
       "      <td>0</td>\n",
       "      <td>0</td>\n",
       "      <td>12</td>\n",
       "    </tr>\n",
       "    <tr>\n",
       "      <th>4</th>\n",
       "      <td>446.0</td>\n",
       "      <td>611</td>\n",
       "      <td>2014</td>\n",
       "      <td>3</td>\n",
       "      <td>1</td>\n",
       "      <td>5</td>\n",
       "      <td>1.3</td>\n",
       "      <td>4.0</td>\n",
       "      <td>0</td>\n",
       "      <td>1</td>\n",
       "      <td>4</td>\n",
       "      <td>0</td>\n",
       "      <td>4</td>\n",
       "      <td>9</td>\n",
       "    </tr>\n",
       "    <tr>\n",
       "      <th>...</th>\n",
       "      <td>...</td>\n",
       "      <td>...</td>\n",
       "      <td>...</td>\n",
       "      <td>...</td>\n",
       "      <td>...</td>\n",
       "      <td>...</td>\n",
       "      <td>...</td>\n",
       "      <td>...</td>\n",
       "      <td>...</td>\n",
       "      <td>...</td>\n",
       "      <td>...</td>\n",
       "      <td>...</td>\n",
       "      <td>...</td>\n",
       "      <td>...</td>\n",
       "    </tr>\n",
       "    <tr>\n",
       "      <th>15402</th>\n",
       "      <td>1055.0</td>\n",
       "      <td>538</td>\n",
       "      <td>2013</td>\n",
       "      <td>9</td>\n",
       "      <td>1</td>\n",
       "      <td>1</td>\n",
       "      <td>3.5</td>\n",
       "      <td>6.0</td>\n",
       "      <td>0</td>\n",
       "      <td>2</td>\n",
       "      <td>4</td>\n",
       "      <td>0</td>\n",
       "      <td>12</td>\n",
       "      <td>10</td>\n",
       "    </tr>\n",
       "    <tr>\n",
       "      <th>15403</th>\n",
       "      <td>1055.0</td>\n",
       "      <td>343</td>\n",
       "      <td>1999</td>\n",
       "      <td>1</td>\n",
       "      <td>1</td>\n",
       "      <td>0</td>\n",
       "      <td>2.0</td>\n",
       "      <td>4.0</td>\n",
       "      <td>1</td>\n",
       "      <td>2</td>\n",
       "      <td>2</td>\n",
       "      <td>0</td>\n",
       "      <td>5</td>\n",
       "      <td>24</td>\n",
       "    </tr>\n",
       "    <tr>\n",
       "      <th>15404</th>\n",
       "      <td>831.0</td>\n",
       "      <td>1176</td>\n",
       "      <td>2011</td>\n",
       "      <td>9</td>\n",
       "      <td>1</td>\n",
       "      <td>5</td>\n",
       "      <td>2.4</td>\n",
       "      <td>4.0</td>\n",
       "      <td>2</td>\n",
       "      <td>1</td>\n",
       "      <td>4</td>\n",
       "      <td>0</td>\n",
       "      <td>8</td>\n",
       "      <td>12</td>\n",
       "    </tr>\n",
       "    <tr>\n",
       "      <th>15405</th>\n",
       "      <td>836.0</td>\n",
       "      <td>1269</td>\n",
       "      <td>2010</td>\n",
       "      <td>4</td>\n",
       "      <td>1</td>\n",
       "      <td>1</td>\n",
       "      <td>2.0</td>\n",
       "      <td>4.0</td>\n",
       "      <td>0</td>\n",
       "      <td>1</td>\n",
       "      <td>4</td>\n",
       "      <td>0</td>\n",
       "      <td>4</td>\n",
       "      <td>13</td>\n",
       "    </tr>\n",
       "    <tr>\n",
       "      <th>15406</th>\n",
       "      <td>1288.0</td>\n",
       "      <td>409</td>\n",
       "      <td>2007</td>\n",
       "      <td>4</td>\n",
       "      <td>1</td>\n",
       "      <td>1</td>\n",
       "      <td>2.0</td>\n",
       "      <td>4.0</td>\n",
       "      <td>0</td>\n",
       "      <td>1</td>\n",
       "      <td>4</td>\n",
       "      <td>0</td>\n",
       "      <td>4</td>\n",
       "      <td>16</td>\n",
       "    </tr>\n",
       "  </tbody>\n",
       "</table>\n",
       "<p>15246 rows × 14 columns</p>\n",
       "</div>"
      ],
      "text/plain": [
       "         Levy  Model  year  Category  LeatherInt  FuelType  EngineVolume  \\\n",
       "0      1399.0   1104  2010         4           1         2           3.5   \n",
       "1      1018.0    589  2011         4           0         5           3.0   \n",
       "2      1018.0    611  2006         3           0         5           1.3   \n",
       "3       862.0    592  2011         4           1         2           2.5   \n",
       "4       446.0    611  2014         3           1         5           1.3   \n",
       "...       ...    ...   ...       ...         ...       ...           ...   \n",
       "15402  1055.0    538  2013         9           1         1           3.5   \n",
       "15403  1055.0    343  1999         1           1         0           2.0   \n",
       "15404   831.0   1176  2011         9           1         5           2.4   \n",
       "15405   836.0   1269  2010         4           1         1           2.0   \n",
       "15406  1288.0    409  2007         4           1         1           2.0   \n",
       "\n",
       "       Cylinders  GearBoxType  DriveWheels  Doors  Wheel  Airbags  Age  \n",
       "0            6.0            0            0      4      0       12   13  \n",
       "1            6.0            2            0      4      0        8   12  \n",
       "2            4.0            3            1      4      1        2   17  \n",
       "3            4.0            0            0      4      0        0   12  \n",
       "4            4.0            0            1      4      0        4    9  \n",
       "...          ...          ...          ...    ...    ...      ...  ...  \n",
       "15402        6.0            0            2      4      0       12   10  \n",
       "15403        4.0            1            2      2      0        5   24  \n",
       "15404        4.0            2            1      4      0        8   12  \n",
       "15405        4.0            0            1      4      0        4   13  \n",
       "15406        4.0            0            1      4      0        4   16  \n",
       "\n",
       "[15246 rows x 14 columns]"
      ]
     },
     "execution_count": 220,
     "metadata": {},
     "output_type": "execute_result"
    }
   ],
   "source": [
    "x"
   ]
  },
  {
   "cell_type": "code",
   "execution_count": 221,
   "id": "9cd1abd3",
   "metadata": {},
   "outputs": [],
   "source": [
    "scaler = StandardScaler()"
   ]
  },
  {
   "cell_type": "code",
   "execution_count": 222,
   "id": "c34bed43",
   "metadata": {},
   "outputs": [],
   "source": [
    "scaled_x = scaler.fit_transform(x)"
   ]
  },
  {
   "cell_type": "code",
   "execution_count": 223,
   "id": "350aad24",
   "metadata": {},
   "outputs": [],
   "source": [
    "scaled_x = sm.add_constant(scaled_x)"
   ]
  },
  {
   "cell_type": "code",
   "execution_count": 224,
   "id": "8cd2183a",
   "metadata": {},
   "outputs": [
    {
     "name": "stdout",
     "output_type": "stream",
     "text": [
      "                            OLS Regression Results                            \n",
      "==============================================================================\n",
      "Dep. Variable:                  Price   R-squared:                       0.290\n",
      "Model:                            OLS   Adj. R-squared:                  0.289\n",
      "Method:                 Least Squares   F-statistic:                     334.7\n",
      "Date:                Sat, 07 Jan 2023   Prob (F-statistic):               0.00\n",
      "Time:                        14:53:13   Log-Likelihood:            -1.1467e+05\n",
      "No. Observations:               10672   AIC:                         2.294e+05\n",
      "Df Residuals:                   10658   BIC:                         2.295e+05\n",
      "Df Model:                          13                                         \n",
      "Covariance Type:            nonrobust                                         \n",
      "==============================================================================\n",
      "                 coef    std err          t      P>|t|      [0.025      0.975]\n",
      "------------------------------------------------------------------------------\n",
      "const         1.8e+04    108.739    165.515      0.000    1.78e+04    1.82e+04\n",
      "x1           666.0180    120.322      5.535      0.000     430.164     901.872\n",
      "x2           250.2980    114.996      2.177      0.030      24.884     475.712\n",
      "x3          3321.2545     66.140     50.216      0.000    3191.608    3450.901\n",
      "x4         -1753.7511    121.185    -14.472      0.000   -1991.296   -1516.206\n",
      "x5           288.5476    131.173      2.200      0.028      31.425     545.671\n",
      "x6         -1015.4371    115.261     -8.810      0.000   -1241.370    -789.505\n",
      "x7          2998.4659    187.742     15.971      0.000    2630.456    3366.476\n",
      "x8          -467.1656    173.626     -2.691      0.007    -807.505    -126.827\n",
      "x9          2511.9139    118.535     21.191      0.000    2279.563    2744.265\n",
      "x10          781.0337    119.580      6.531      0.000     546.634    1015.433\n",
      "x11          353.0610    116.381      3.034      0.002     124.932     581.190\n",
      "x12        -1224.2260    120.878    -10.128      0.000   -1461.168    -987.284\n",
      "x13        -2780.9243    120.972    -22.988      0.000   -3018.053   -2543.796\n",
      "x14        -3321.2545     66.140    -50.216      0.000   -3450.901   -3191.608\n",
      "==============================================================================\n",
      "Omnibus:                     1062.324   Durbin-Watson:                   1.999\n",
      "Prob(Omnibus):                  0.000   Jarque-Bera (JB):             1696.185\n",
      "Skew:                           0.729   Prob(JB):                         0.00\n",
      "Kurtosis:                       4.299   Cond. No.                     9.39e+15\n",
      "==============================================================================\n",
      "\n",
      "Notes:\n",
      "[1] Standard Errors assume that the covariance matrix of the errors is correctly specified.\n",
      "[2] The smallest eigenvalue is 3.31e-28. This might indicate that there are\n",
      "strong multicollinearity problems or that the design matrix is singular.\n"
     ]
    }
   ],
   "source": [
    "x_train,x_test,y_train,y_test = train_test_split(scaled_x,y,test_size = 0.3,random_state = 120)\n",
    "mod = sm.OLS(y_train,x_train).fit()\n",
    "print(mod.summary())"
   ]
  },
  {
   "cell_type": "markdown",
   "id": "3b3fb601",
   "metadata": {},
   "source": [
    "### Checking Assumptions"
   ]
  },
  {
   "cell_type": "markdown",
   "id": "f3153942",
   "metadata": {},
   "source": [
    "### Linearity of the Model"
   ]
  },
  {
   "cell_type": "code",
   "execution_count": 225,
   "id": "a51ed8a6",
   "metadata": {},
   "outputs": [
    {
     "data": {
      "image/png": "[encoded data removed]",
      "text/plain": [
       "<Figure size 432x288 with 1 Axes>"
      ]
     },
     "metadata": {
      "needs_background": "light"
     },
     "output_type": "display_data"
    }
   ],
   "source": [
    "sns.scatterplot(mod.predict(x_train), mod.resid)\n",
    "plt.show()"
   ]
  },
  {
   "cell_type": "markdown",
   "id": "478d9608",
   "metadata": {},
   "source": [
    "### Residual Plot"
   ]
  },
  {
   "cell_type": "code",
   "execution_count": 226,
   "id": "bc3977eb",
   "metadata": {},
   "outputs": [
    {
     "data": {
      "text/plain": [
       "-1.677792737326086e-11"
      ]
     },
     "execution_count": 226,
     "metadata": {},
     "output_type": "execute_result"
    }
   ],
   "source": [
    "mod.resid.mean()"
   ]
  },
  {
   "cell_type": "code",
   "execution_count": 229,
   "id": "7824d3bf",
   "metadata": {},
   "outputs": [
    {
     "data": {
      "image/png": "[encoded data removed]",
      "text/plain": [
       "<Figure size 432x288 with 1 Axes>"
      ]
     },
     "metadata": {
      "needs_background": "light"
     },
     "output_type": "display_data"
    }
   ],
   "source": [
    "mod.resid.plot(kind = 'kde')\n",
    "plt.show()"
   ]
  },
  {
   "cell_type": "code",
   "execution_count": 231,
   "id": "83cc6512",
   "metadata": {},
   "outputs": [
    {
     "data": {
      "text/plain": [
       "(0.7292222728474974, 1.3004200878418386)"
      ]
     },
     "execution_count": 231,
     "metadata": {},
     "output_type": "execute_result"
    }
   ],
   "source": [
    "mod.resid.skew(),mod.resid.kurt()"
   ]
  },
  {
   "cell_type": "code",
   "execution_count": 232,
   "id": "f8118e60",
   "metadata": {},
   "outputs": [
    {
     "data": {
      "image/png": "[encoded data removed]",
      "text/plain": [
       "<Figure size 432x288 with 1 Axes>"
      ]
     },
     "metadata": {
      "needs_background": "light"
     },
     "output_type": "display_data"
    }
   ],
   "source": [
    "mod.resid.plot(kind = 'hist')\n",
    "plt.show()"
   ]
  },
  {
   "cell_type": "code",
   "execution_count": 233,
   "id": "b2046a8c",
   "metadata": {},
   "outputs": [
    {
     "data": {
      "image/png": "[encoded data removed]",
      "text/plain": [
       "<Figure size 432x288 with 1 Axes>"
      ]
     },
     "execution_count": 233,
     "metadata": {},
     "output_type": "execute_result"
    },
    {
     "data": {
      "image/png": "[encoded data removed]",
      "text/plain": [
       "<Figure size 432x288 with 1 Axes>"
      ]
     },
     "metadata": {
      "needs_background": "light"
     },
     "output_type": "display_data"
    }
   ],
   "source": [
    "sm.qqplot(mod.resid)"
   ]
  },
  {
   "cell_type": "markdown",
   "id": "9f338723",
   "metadata": {},
   "source": [
    "**COMMENT :-** Our model still not fit so Try log transformation.**"
   ]
  },
  {
   "cell_type": "markdown",
   "id": "ca2efa2d",
   "metadata": {},
   "source": [
    "### APPLYING LOG TRANSFORMATION"
   ]
  },
  {
   "cell_type": "code",
   "execution_count": 237,
   "id": "ac963fc8",
   "metadata": {},
   "outputs": [
    {
     "data": {
      "text/plain": [
       "Index(['Price', 'Levy', 'Manufacturer', 'Model', 'year', 'Category',\n",
       "       'LeatherInt', 'FuelType', 'EngineVolume', 'Mileage', 'Cylinders',\n",
       "       'GearBoxType', 'DriveWheels', 'Doors', 'Wheel', 'Color', 'Airbags',\n",
       "       'Age'],\n",
       "      dtype='object')"
      ]
     },
     "execution_count": 237,
     "metadata": {},
     "output_type": "execute_result"
    }
   ],
   "source": [
    "cars.columns"
   ]
  },
  {
   "cell_type": "code",
   "execution_count": 282,
   "id": "7470806c",
   "metadata": {},
   "outputs": [
    {
     "name": "stdout",
     "output_type": "stream",
     "text": [
      "                                 OLS Regression Results                                \n",
      "=======================================================================================\n",
      "Dep. Variable:                  Price   R-squared (uncentered):                   0.992\n",
      "Model:                            OLS   Adj. R-squared (uncentered):              0.992\n",
      "Method:                 Least Squares   F-statistic:                          9.909e+04\n",
      "Date:                Sat, 07 Jan 2023   Prob (F-statistic):                        0.00\n",
      "Time:                        15:26:59   Log-Likelihood:                         -13580.\n",
      "No. Observations:               10672   AIC:                                  2.719e+04\n",
      "Df Residuals:                   10659   BIC:                                  2.728e+04\n",
      "Df Model:                          13                                                  \n",
      "Covariance Type:            nonrobust                                                  \n",
      "==============================================================================\n",
      "                 coef    std err          t      P>|t|      [0.025      0.975]\n",
      "------------------------------------------------------------------------------\n",
      "const               0          0        nan        nan           0           0\n",
      "x1             0.1088      0.009     11.751      0.000       0.091       0.127\n",
      "x2             0.1479      0.009     16.751      0.000       0.131       0.165\n",
      "x3          6.074e+14   5.35e+11   1134.929      0.000    6.06e+14    6.08e+14\n",
      "x4             0.0471      0.009      5.311      0.000       0.030       0.064\n",
      "x5            -0.0376      0.010     -3.728      0.000      -0.057      -0.018\n",
      "x6             0.0340      0.009      3.866      0.000       0.017       0.051\n",
      "x7             0.1147      0.010     11.085      0.000       0.094       0.135\n",
      "x8             0.2369      0.009     26.004      0.000       0.219       0.255\n",
      "x9             0.0511      0.009      5.639      0.000       0.033       0.069\n",
      "x10           -0.1556      0.009    -16.786      0.000      -0.174      -0.137\n",
      "x11            0.0545      0.009      6.400      0.000       0.038       0.071\n",
      "x12           -0.2176      0.009    -23.367      0.000      -0.236      -0.199\n",
      "x13         6.074e+14   5.35e+11   1134.929      0.000    6.06e+14    6.08e+14\n",
      "==============================================================================\n",
      "Omnibus:                     1240.252   Durbin-Watson:                   1.980\n",
      "Prob(Omnibus):                  0.000   Jarque-Bera (JB):             1924.836\n",
      "Skew:                          -0.841   Prob(JB):                         0.00\n",
      "Kurtosis:                       4.226   Cond. No.                          inf\n",
      "==============================================================================\n",
      "\n",
      "Notes:\n",
      "[1] R² is computed without centering (uncentered) since the model does not contain a constant.\n",
      "[2] Standard Errors assume that the covariance matrix of the errors is correctly specified.\n",
      "[3] The smallest eigenvalue is      0. This might indicate that there are\n",
      "strong multicollinearity problems or that the design matrix is singular.\n"
     ]
    }
   ],
   "source": [
    "x = sm.add_constant(cars.drop(['Price','Manufacturer','Mileage','Cylinders','Doors'],axis = 1))\n",
    "y = np.log(cars[\"Price\"])\n",
    "scaled_x = scaler.fit_transform(x)\n",
    "x_train,x_test,y_train,y_test = train_test_split(scaled_x,y,test_size = 0.3,random_state = 120)\n",
    "mod = sm.OLS(y_train,x_train).fit()\n",
    "print(mod.summary())"
   ]
  },
  {
   "cell_type": "code",
   "execution_count": null,
   "id": "f8e2d8c3",
   "metadata": {},
   "outputs": [],
   "source": []
  },
  {
   "cell_type": "markdown",
   "id": "0d894536",
   "metadata": {},
   "source": [
    "<pre>\n",
    "<b>After applying the log transformation the R sqaure is 0.992</b>\n",
    "</pre>"
   ]
  },
  {
   "cell_type": "markdown",
   "id": "e0abb57e",
   "metadata": {},
   "source": [
    "### --------------------------------------------------- Checking Assumptions --------------------------------------------------------------------"
   ]
  },
  {
   "cell_type": "markdown",
   "id": "f7e4a81e",
   "metadata": {},
   "source": [
    "### 1. Linearity of the Model"
   ]
  },
  {
   "cell_type": "code",
   "execution_count": 262,
   "id": "11778a53",
   "metadata": {},
   "outputs": [
    {
     "data": {
      "image/png": "[encoded data removed]",
      "text/plain": [
       "<Figure size 432x288 with 1 Axes>"
      ]
     },
     "metadata": {
      "needs_background": "light"
     },
     "output_type": "display_data"
    }
   ],
   "source": [
    "sns.scatterplot(mod.predict(x_train), mod.resid)\n",
    "plt.show()"
   ]
  },
  {
   "cell_type": "markdown",
   "id": "9f884e15",
   "metadata": {},
   "source": [
    "**COMMENT :-** After log transformation, by scatter plot can see that there exist some kind of relationship "
   ]
  },
  {
   "cell_type": "markdown",
   "id": "6c58b000",
   "metadata": {},
   "source": [
    "### 2. Normality test by Residual Plot"
   ]
  },
  {
   "cell_type": "code",
   "execution_count": 263,
   "id": "ab9d25e0",
   "metadata": {},
   "outputs": [
    {
     "data": {
      "text/plain": [
       "0.0009860075573751522"
      ]
     },
     "execution_count": 263,
     "metadata": {},
     "output_type": "execute_result"
    }
   ],
   "source": [
    "mod.resid.mean()"
   ]
  },
  {
   "cell_type": "code",
   "execution_count": 264,
   "id": "ac656e0d",
   "metadata": {},
   "outputs": [
    {
     "data": {
      "text/plain": [
       "<AxesSubplot:ylabel='Density'>"
      ]
     },
     "execution_count": 264,
     "metadata": {},
     "output_type": "execute_result"
    },
    {
     "data": {
      "image/png": "[encoded data removed]",
      "text/plain": [
       "<Figure size 432x288 with 1 Axes>"
      ]
     },
     "metadata": {
      "needs_background": "light"
     },
     "output_type": "display_data"
    }
   ],
   "source": [
    "mod.resid.plot(kind = 'kde')"
   ]
  },
  {
   "cell_type": "code",
   "execution_count": 265,
   "id": "4adc9273",
   "metadata": {},
   "outputs": [
    {
     "data": {
      "text/plain": [
       "(-0.8406751751667255, 1.2269315903225015)"
      ]
     },
     "execution_count": 265,
     "metadata": {},
     "output_type": "execute_result"
    }
   ],
   "source": [
    "mod.resid.skew(),mod.resid.kurt()"
   ]
  },
  {
   "cell_type": "code",
   "execution_count": 266,
   "id": "59a16fb7",
   "metadata": {},
   "outputs": [
    {
     "data": {
      "text/plain": [
       "<AxesSubplot:ylabel='Frequency'>"
      ]
     },
     "execution_count": 266,
     "metadata": {},
     "output_type": "execute_result"
    },
    {
     "data": {
      "image/png": "[encoded data removed]",
      "text/plain": [
       "<Figure size 432x288 with 1 Axes>"
      ]
     },
     "metadata": {
      "needs_background": "light"
     },
     "output_type": "display_data"
    }
   ],
   "source": [
    "mod.resid.plot(kind = 'hist') "
   ]
  },
  {
   "cell_type": "code",
   "execution_count": 286,
   "id": "ec0cde22",
   "metadata": {},
   "outputs": [
    {
     "data": {
      "image/png": "[encoded data removed]",
      "text/plain": [
       "<Figure size 432x288 with 1 Axes>"
      ]
     },
     "execution_count": 286,
     "metadata": {},
     "output_type": "execute_result"
    },
    {
     "data": {
      "image/png": "[encoded data removed]",
      "text/plain": [
       "<Figure size 432x288 with 1 Axes>"
      ]
     },
     "metadata": {
      "needs_background": "light"
     },
     "output_type": "display_data"
    }
   ],
   "source": [
    "sm.qqplot(mod.resid)"
   ]
  },
  {
   "cell_type": "markdown",
   "id": "292896bf",
   "metadata": {},
   "source": [
    "**COMMENT :-** \n",
    "The p-value for the jarque-bera test - 0.0, which is less than 0.05.\n",
    "Therefore, according to the jarque-bera test, so we reject the null hypothesis that the data is normal"
   ]
  },
  {
   "cell_type": "markdown",
   "id": "bf4ba1d4",
   "metadata": {},
   "source": [
    "### 3. Correlation"
   ]
  },
  {
   "cell_type": "code",
   "execution_count": 268,
   "id": "79c513b9",
   "metadata": {},
   "outputs": [
    {
     "data": {
      "text/plain": [
       "<AxesSubplot:>"
      ]
     },
     "execution_count": 268,
     "metadata": {},
     "output_type": "execute_result"
    },
    {
     "data": {
      "image/png": "[encoded data removed]",
      "text/plain": [
       "<Figure size 1080x432 with 2 Axes>"
      ]
     },
     "metadata": {
      "needs_background": "light"
     },
     "output_type": "display_data"
    }
   ],
   "source": [
    "plt.figure(figsize = (15,6))\n",
    "sns.heatmap(x.corr(),annot = True)\n"
   ]
  },
  {
   "cell_type": "markdown",
   "id": "6fe402e7",
   "metadata": {},
   "source": [
    "**COMMENT :-** By correlation we can say that observations are not highly correlated."
   ]
  },
  {
   "cell_type": "markdown",
   "id": "1018519a",
   "metadata": {},
   "source": [
    "### TEST HETEROSCEDASTICITY"
   ]
  },
  {
   "cell_type": "code",
   "execution_count": 274,
   "id": "72017161",
   "metadata": {},
   "outputs": [],
   "source": [
    "from sklearn.metrics import mean_squared_error"
   ]
  },
  {
   "cell_type": "code",
   "execution_count": 278,
   "id": "180a03cf",
   "metadata": {
    "scrolled": true
   },
   "outputs": [
    {
     "data": {
      "text/plain": [
       "<AxesSubplot:xlabel='Price'>"
      ]
     },
     "execution_count": 278,
     "metadata": {},
     "output_type": "execute_result"
    },
    {
     "data": {
      "image/png": "[encoded data removed]",
      "text/plain": [
       "<Figure size 432x288 with 1 Axes>"
      ]
     },
     "metadata": {
      "needs_background": "light"
     },
     "output_type": "display_data"
    }
   ],
   "source": [
    "sns.scatterplot(y,mod.resid)"
   ]
  },
  {
   "cell_type": "code",
   "execution_count": 280,
   "id": "27b08321",
   "metadata": {},
   "outputs": [
    {
     "data": {
      "text/plain": [
       "(3228.034508055613, 0.0, 355.55511227490825, 0.0)"
      ]
     },
     "execution_count": 280,
     "metadata": {},
     "output_type": "execute_result"
    }
   ],
   "source": [
    "import statsmodels.stats.api as ssa\n",
    "ssa.het_breuschpagan(mod.resid,mod.model.exog)"
   ]
  },
  {
   "cell_type": "markdown",
   "id": "7f369bda",
   "metadata": {},
   "source": [
    "<pre>\n",
    "however, the breuschpagan test p value is 0.0 which is less than 0.05\n",
    "<b>So we reject the null hypothesis that there is homoscedasticity.\n",
    "The errors doesn't have a constant variance even after applying the log transformation</b>\n",
    "</pre>"
   ]
  },
  {
   "cell_type": "code",
   "execution_count": null,
   "id": "ef214058",
   "metadata": {},
   "outputs": [],
   "source": []
  },
  {
   "cell_type": "markdown",
   "id": "7a1d5452",
   "metadata": {},
   "source": [
    "### TEST MODEL ON TRAINING AND TESTING MODEL"
   ]
  },
  {
   "cell_type": "code",
   "execution_count": 277,
   "id": "f2376662",
   "metadata": {},
   "outputs": [
    {
     "name": "stdout",
     "output_type": "stream",
     "text": [
      "Root Mean square error on Train data  0.863729987255152\n",
      "Root Mean square error on Testing data  0.8734226250783823\n"
     ]
    }
   ],
   "source": [
    "predict_train = mod.predict(x_train)\n",
    "predict_test = mod.predict(x_test)\n",
    "RMSE_train = np.sqrt(mean_squared_error(predict_train,y_train))\n",
    "print('Root Mean square error on Train data ', RMSE_train)\n",
    "RMSE_test = np.sqrt(mean_squared_error(predict_test,y_test))\n",
    "print('Root Mean square error on Testing data ', RMSE_test)"
   ]
  },
  {
   "cell_type": "markdown",
   "id": "55886f88",
   "metadata": {},
   "source": [
    "**CONCLUSION :-** \n",
    "   * Even after applying log transformation model didn't satisfy the assumption.\n",
    "   * But by above we can say that The way model behave to training data, model also behaving the same on Testing data.\n",
    "   * With increasing 0.992, high R^2 squared .\n",
    "   * There may be not good idea to apply Multiple Linear regression, may be other model work well. "
   ]
  },
  {
   "cell_type": "code",
   "execution_count": null,
   "id": "0b63206c",
   "metadata": {},
   "outputs": [],
   "source": []
  }
 ],
 "metadata": {
  "kernelspec": {
   "display_name": "Python 3 (ipykernel)",
   "language": "python",
   "name": "python3"
  },
  "language_info": {
   "codemirror_mode": {
    "name": "ipython",
    "version": 3
   },
   "file_extension": ".py",
   "mimetype": "text/x-python",
   "name": "python",
   "nbconvert_exporter": "python",
   "pygments_lexer": "ipython3",
   "version": "3.9.12"
  }
 },
 "nbformat": 4,
 "nbformat_minor": 5
}
